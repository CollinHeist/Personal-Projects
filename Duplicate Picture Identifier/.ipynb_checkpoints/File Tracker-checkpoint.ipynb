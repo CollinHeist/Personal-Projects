{
 "cells": [
  {
   "cell_type": "code",
   "execution_count": 1,
   "metadata": {},
   "outputs": [],
   "source": [
    "import os\n",
    "import time\n",
    "import datetime as dt\n",
    "import pandas as pd\n",
    "from IPython.display import display, clear_output\n",
    "import seaborn as sns\n",
    "import matplotlib.pyplot as plt"
   ]
  },
  {
   "cell_type": "code",
   "execution_count": 2,
   "metadata": {},
   "outputs": [],
   "source": [
    "primary_dir = \"/Volumes/Seagate Backup Plus Drive/Miscellaneous/Google Drive/\"\n",
    "df_file = \"/Users/CollinHeist/Documents/GitHub/Personal-Projects/Duplicate Picture Identifier/history.csv\"\n",
    "valid_ext = ('.mov', '.mp4', '.gif', '.jpg', '.jpeg', '.png', '.heic')\n",
    "count_freq_min = 2 # How often - in minutes - to check file counts"
   ]
  },
  {
   "cell_type": "code",
   "execution_count": 3,
   "metadata": {},
   "outputs": [],
   "source": [
    "def get_file_count(path):\n",
    "    try:\n",
    "        return len([file for file in os.listdir(path) if file.lower().endswith(valid_ext)])\n",
    "    except FileNotFoundError:\n",
    "        return 0"
   ]
  },
  {
   "cell_type": "code",
   "execution_count": 4,
   "metadata": {},
   "outputs": [],
   "source": [
    "def get_folder_list(path):\n",
    "    list_of_files = os.listdir(path) # Get a list of all files in the current directory\n",
    "    all_folders = []\n",
    "    # Iterate over all the entries\n",
    "    for entry in list_of_files:\n",
    "        # Create full path\n",
    "        full_path = os.path.join(path, entry)\n",
    "        # If entry is a directory then get the list of files in this directory \n",
    "        # Ignore all hidden files, and the /temp/ folder and alias Duplicates subfolder used for dupe identification\n",
    "        if os.path.isdir(full_path) and entry[0] is not '.' and entry is not 'temp' and entry != 'Duplicates':\n",
    "            all_folders = all_folders + get_folder_list(full_path)\n",
    "            all_folders.append(full_path)\n",
    "                            \n",
    "    return all_folders"
   ]
  },
  {
   "cell_type": "code",
   "execution_count": 1,
   "metadata": {
    "scrolled": false
   },
   "outputs": [
    {
     "ename": "NameError",
     "evalue": "name 'pd' is not defined",
     "output_type": "error",
     "traceback": [
      "\u001b[0;31m---------------------------------------------------------------------------\u001b[0m",
      "\u001b[0;31mNameError\u001b[0m                                 Traceback (most recent call last)",
      "\u001b[0;32m<ipython-input-1-1ec8504befbe>\u001b[0m in \u001b[0;36m<module>\u001b[0;34m\u001b[0m\n\u001b[1;32m      1\u001b[0m \u001b[0;32mtry\u001b[0m\u001b[0;34m:\u001b[0m\u001b[0;34m\u001b[0m\u001b[0;34m\u001b[0m\u001b[0m\n\u001b[0;32m----> 2\u001b[0;31m     \u001b[0mdf\u001b[0m \u001b[0;34m=\u001b[0m \u001b[0mpd\u001b[0m\u001b[0;34m.\u001b[0m\u001b[0mread_csv\u001b[0m\u001b[0;34m(\u001b[0m\u001b[0mdf_file\u001b[0m\u001b[0;34m,\u001b[0m \u001b[0mindex_col\u001b[0m\u001b[0;34m=\u001b[0m\u001b[0;36m0\u001b[0m\u001b[0;34m)\u001b[0m\u001b[0;34m\u001b[0m\u001b[0;34m\u001b[0m\u001b[0m\n\u001b[0m\u001b[1;32m      3\u001b[0m \u001b[0;32mexcept\u001b[0m \u001b[0mFileNotFoundError\u001b[0m\u001b[0;34m:\u001b[0m\u001b[0;34m\u001b[0m\u001b[0;34m\u001b[0m\u001b[0m\n\u001b[1;32m      4\u001b[0m     \u001b[0mfolder_list\u001b[0m \u001b[0;34m=\u001b[0m \u001b[0mget_folder_list\u001b[0m\u001b[0;34m(\u001b[0m\u001b[0mprimary_dir\u001b[0m\u001b[0;34m)\u001b[0m\u001b[0;34m\u001b[0m\u001b[0;34m\u001b[0m\u001b[0m\n\u001b[1;32m      5\u001b[0m     \u001b[0mfile_count\u001b[0m \u001b[0;34m=\u001b[0m \u001b[0;34m[\u001b[0m\u001b[0mget_file_count\u001b[0m\u001b[0;34m(\u001b[0m\u001b[0mfolder\u001b[0m\u001b[0;34m)\u001b[0m \u001b[0;32mfor\u001b[0m \u001b[0mfolder\u001b[0m \u001b[0;32min\u001b[0m \u001b[0mfolder_list\u001b[0m\u001b[0;34m]\u001b[0m\u001b[0;34m\u001b[0m\u001b[0;34m\u001b[0m\u001b[0m\n",
      "\u001b[0;31mNameError\u001b[0m: name 'pd' is not defined"
     ]
    }
   ],
   "source": [
    "try:\n",
    "    df = pd.read_csv(df_file, index_col=0)\n",
    "except FileNotFoundError:\n",
    "    folder_list = get_folder_list(primary_dir)\n",
    "    file_count = [get_file_count(folder) for folder in folder_list]\n",
    "    df = pd.DataFrame([file_count], index=[last_time],\n",
    "                      columns=[folder[len(primary_dir):] for folder in folder_list])\n",
    "    df.to_csv(df_file)\n",
    "    \n",
    "while True:\n",
    "    # Get folder list and file count of base folder\n",
    "    folder_list = get_folder_list(primary_dir)\n",
    "    file_count = [get_file_count(folder) for folder in folder_list]\n",
    "    # Generate a new row that contains all the subolders and their corresponding file counts\n",
    "    new_row = pd.Series(dict(zip([folder[len(primary_dir):] for folder in folder_list], file_count)), name=dt.datetime.now())\n",
    "    # Append the row to the existing DataFrame, delete duplicate rows where counts don't change, replace NaN w/ 0\n",
    "    df = df.append(new_row).drop_duplicates(keep='last').fillna(0)\n",
    "    # Write the updated DataFrame to the DataFrame file\n",
    "    df.to_csv(df_file)\n",
    "    # Display DataFrame\n",
    "    with pd.option_context('display.max_rows', 10, 'display.max_columns', 500, 'display.max_colwidth', 10000):\n",
    "        clear_output()\n",
    "        display(df)\n",
    "    # Wait between parsing file contents\n",
    "    time.sleep(count_freq_min * 60.0);"
   ]
  },
  {
   "cell_type": "code",
   "execution_count": 2,
   "metadata": {
    "scrolled": false
   },
   "outputs": [
    {
     "ename": "NameError",
     "evalue": "name 'df' is not defined",
     "output_type": "error",
     "traceback": [
      "\u001b[0;31m---------------------------------------------------------------------------\u001b[0m",
      "\u001b[0;31mNameError\u001b[0m                                 Traceback (most recent call last)",
      "\u001b[0;32m<ipython-input-2-05f8092518cf>\u001b[0m in \u001b[0;36m<module>\u001b[0;34m\u001b[0m\n\u001b[1;32m      1\u001b[0m \u001b[0;31m# filt_df = df[df.columns[(df.max() < 250) & (df.max() > 25)]]\u001b[0m\u001b[0;34m\u001b[0m\u001b[0;34m\u001b[0m\u001b[0;34m\u001b[0m\u001b[0m\n\u001b[0;32m----> 2\u001b[0;31m \u001b[0mfilt_df\u001b[0m \u001b[0;34m=\u001b[0m \u001b[0mdf\u001b[0m\u001b[0;34m\u001b[0m\u001b[0;34m\u001b[0m\u001b[0m\n\u001b[0m\u001b[1;32m      3\u001b[0m \u001b[0mplot_df\u001b[0m \u001b[0;34m=\u001b[0m \u001b[0mfilt_df\u001b[0m\u001b[0;34m.\u001b[0m\u001b[0munstack\u001b[0m\u001b[0;34m(\u001b[0m\u001b[0;34m)\u001b[0m\u001b[0;34m.\u001b[0m\u001b[0mreset_index\u001b[0m\u001b[0;34m(\u001b[0m\u001b[0;34m)\u001b[0m\u001b[0;34m\u001b[0m\u001b[0;34m\u001b[0m\u001b[0m\n\u001b[1;32m      4\u001b[0m \u001b[0mplot_df\u001b[0m\u001b[0;34m.\u001b[0m\u001b[0mcolumns\u001b[0m \u001b[0;34m=\u001b[0m \u001b[0;34m[\u001b[0m\u001b[0;34m'Folder'\u001b[0m\u001b[0;34m,\u001b[0m \u001b[0;34m'Date'\u001b[0m\u001b[0;34m,\u001b[0m \u001b[0;34m'Count'\u001b[0m\u001b[0;34m]\u001b[0m\u001b[0;34m\u001b[0m\u001b[0;34m\u001b[0m\u001b[0m\n\u001b[1;32m      5\u001b[0m \u001b[0mplot_df\u001b[0m\u001b[0;34m[\u001b[0m\u001b[0;34m'Date'\u001b[0m\u001b[0;34m]\u001b[0m \u001b[0;34m=\u001b[0m \u001b[0mpd\u001b[0m\u001b[0;34m.\u001b[0m\u001b[0mto_datetime\u001b[0m\u001b[0;34m(\u001b[0m\u001b[0mplot_df\u001b[0m\u001b[0;34m[\u001b[0m\u001b[0;34m'Date'\u001b[0m\u001b[0;34m]\u001b[0m\u001b[0;34m)\u001b[0m\u001b[0;34m\u001b[0m\u001b[0;34m\u001b[0m\u001b[0m\n",
      "\u001b[0;31mNameError\u001b[0m: name 'df' is not defined"
     ]
    }
   ],
   "source": [
    "# filt_df = df[df.columns[(df.max() < 250) & (df.max() > 25)]]\n",
    "filt_df = df\n",
    "plot_df = filt_df.unstack().reset_index()\n",
    "plot_df.columns = ['Folder', 'Date', 'Count']\n",
    "plot_df['Date'] = pd.to_datetime(plot_df['Date'])\n",
    "\n",
    "plt.figure(figsize=(16, 18))\n",
    "g = sns.lineplot(x='Date', y='Count', hue='Folder', data=plot_df)\n",
    "# g.set(ylim=(0, 275))"
   ]
  },
  {
   "cell_type": "code",
   "execution_count": null,
   "metadata": {},
   "outputs": [],
   "source": []
  }
 ],
 "metadata": {
  "kernelspec": {
   "display_name": "Python 3",
   "language": "python",
   "name": "python3"
  },
  "language_info": {
   "codemirror_mode": {
    "name": "ipython",
    "version": 3
   },
   "file_extension": ".py",
   "mimetype": "text/x-python",
   "name": "python",
   "nbconvert_exporter": "python",
   "pygments_lexer": "ipython3",
   "version": "3.7.3"
  }
 },
 "nbformat": 4,
 "nbformat_minor": 2
}
