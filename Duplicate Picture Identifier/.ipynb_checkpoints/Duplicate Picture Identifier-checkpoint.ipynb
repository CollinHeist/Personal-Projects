{
 "cells": [
  {
   "cell_type": "code",
   "execution_count": 1,
   "metadata": {},
   "outputs": [],
   "source": [
    "# Import the necessary packages\n",
    "from PIL import Image\n",
    "import imagehash\n",
    "import os\n",
    "import time\n",
    "import numpy as np\n",
    "import matplotlib.pyplot as plt\n",
    "colors = [\"red\", \"blue\", \"green\", \"gray\", \"purple\", \"orange\"]\n",
    "# Generic Function to create a plot\n",
    "def create_plot(x, y, xLabel=[\"X-Values\"], yLabel=[\"Y-Values\"],\n",
    "                title=[\"Plot\"], num_rows=1, size=(16, 12), mode=\"Norm\"):\n",
    "    plt.figure(figsize=size, dpi=300)\n",
    "    for c, (x_vals, y_vals, x_labels, y_labels, titles) in enumerate(\n",
    "        zip(x, y, xLabel, yLabel, title)):\n",
    "        for c2, (y_v, t) in enumerate(zip(y_vals, titles)):\n",
    "            plt.subplot(num_rows, 1, c + 1)\n",
    "            # Add a plot to the subplot, use transparency so they can both be seen\n",
    "            if mode is \"Norm\":\n",
    "                plt.plot(x_vals, y_v, label=t, color=colors[c2+c], alpha=0.70)\n",
    "            else:\n",
    "                plt.semilogx(x_vals, y_v, label=t, color=colors[c2+c], alpha=0.70)\n",
    "            plt.ylabel(y_labels)\n",
    "            plt.xlabel(x_labels)\n",
    "            plt.grid(True)\n",
    "            plt.legend(loc='lower right')\n",
    "    \n",
    "    plt.show()\n",
    "    \n",
    "time_per_compare = 0.08 # How many seconds each comparison takes"
   ]
  },
  {
   "cell_type": "code",
   "execution_count": 2,
   "metadata": {},
   "outputs": [],
   "source": [
    "moveEXT = tuple([\".jpg\", \".jpeg\", \".png\", \".gif\", \".mp4\", \".mov\"])\n",
    "dupeEXT = tuple([\".jpg\", \".jpeg\", \".png\",])"
   ]
  },
  {
   "cell_type": "code",
   "execution_count": 3,
   "metadata": {},
   "outputs": [],
   "source": [
    "# Read the provided directory and return a list of all images in said directory\n",
    "def grabImageList(path, move=True):\n",
    "    return [image for image in os.listdir(path) if image.lower().endswith(moveEXT)] if move else [image for image in os.listdir(path) if image.lower().endswith(dupeEXT)]"
   ]
  },
  {
   "cell_type": "code",
   "execution_count": 4,
   "metadata": {},
   "outputs": [],
   "source": [
    "# For the provided list of images, calculate how many comparisons will be performed: n(n+1)/2\n",
    "def calcComparisons(imageList):\n",
    "    return (len(imageList)*(len(imageList)+1)/2)"
   ]
  },
  {
   "cell_type": "code",
   "execution_count": 5,
   "metadata": {},
   "outputs": [],
   "source": [
    "# Compare all images in the provided directory, if they're similar, notify the user\n",
    "def checkDupes(path):\n",
    "    imageList = grabImageList(path, move=False)\n",
    "    print (\"%i images, %i comparisons\" % (len(imageList), calcComparisons(imageList)))\n",
    "    print (\"This should take about %f minutes\" % (time_per_compare * calcComparisons(imageList) / 60.0))\n",
    "    time_list = []\n",
    "    start_time = time.time()\n",
    "    for count, image in enumerate(imageList):\n",
    "        time_list.append(time.time())\n",
    "        if count % 25 is 0:\n",
    "            print (\"On image #%i, %i comparisons to go.\" % (count, calcComparisons(imageList[count:])))\n",
    "        currImage_hash = imagehash.average_hash(Image.open(imagePath + image))\n",
    "        for imageB in imageList[count+1:]:\n",
    "            compareImage_hash = imagehash.average_hash(Image.open(imagePath + imageB))\n",
    "            if (currImage_hash - compareImage_hash < 3):\n",
    "                print (\"%i: Look at %s, %s (%i)\" % (count, image, imageB, int(currImage_hash-compareImage_hash)))\n",
    "                \n",
    "    print (\"Took %f minutes\" % ((time.time() - start_time) / 60))\n",
    "    return time_list"
   ]
  },
  {
   "cell_type": "code",
   "execution_count": 6,
   "metadata": {},
   "outputs": [],
   "source": [
    "# Rename the /Grouped/ subfolder\n",
    "def renameGrouped(path):\n",
    "    imageList = grabImageList(path)\n",
    "    originalLen = len(imageList)\n",
    "    if not os.path.isdir(path + \"new/\"): # Make the /new/ subfolder if it doesn't exist\n",
    "        os.makedirs(path + \"new/\")\n",
    "        print (\"Created /new/ folder\")\n",
    "    adjust_val = 0\n",
    "    for count, image in enumerate(imageList):\n",
    "        group_count = image.split(\"-\")[0] # Grab the group count of this image\n",
    "        # group_list is the list of all image in the same group\n",
    "        group_list = [img for img in imageList if img.split(\"-\")[0] == group_count]\n",
    "         # If the subgroup of this image has already been renamed, adjust the count accordingly\n",
    "        if len(group_list) == 0:\n",
    "            adjust_val += 1\n",
    "        # Loop through all images of this same subgroup\n",
    "        for sub_count, subimage in enumerate(group_list):\n",
    "            if image.lower().endswith(\".jpeg\"): # New name for longer file names\n",
    "                new_name = \"%snew/%s-%s%s\" % (path, count+1-adjust_val, sub_count+1, image[-5:])\n",
    "            else:\n",
    "                new_name = \"%snew/%s-%s%s\" % (path, count+1-adjust_val, sub_count+1, image[-4:])\n",
    "            os.rename(path + subimage, new_name) # Move to the /new/ folder (with the new name)\n",
    "            time.sleep(0.08) # Sleep between each command to avoid losing files\n",
    "            \n",
    "        imageList = grabImageList(path) # Reset the image list now that some have been moved\n",
    "        \n",
    "    # Move the images back from /Grouped/new/ to /Grouped/\n",
    "    for image in os.listdir(path + \"new/\"):\n",
    "        os.rename(path + \"new/\" + image, path + image)\n",
    "        time.sleep(0.08)\n",
    "        \n",
    "    os.rmdir(path + \"new\") # Delete /path/new/ subfolder\n",
    "    print (\"%i images renamed.\" % originalLen)"
   ]
  },
  {
   "cell_type": "code",
   "execution_count": 7,
   "metadata": {},
   "outputs": [],
   "source": [
    "# Rename all images in the provided directory in order of 1, 2, ..., len(imagelist @ path)\n",
    "def renameAll(path):\n",
    "    if path.endswith(\"Grouped/\") or path.endswith(\"Known/\"): # Prevent accidentally renaming the grouped folder\n",
    "        renameGrouped(path)\n",
    "        return\n",
    "    imageList = grabImageList(path)\n",
    "    if not os.path.isdir(path + \"new/\"): # Make the /new/ subfolder if it doesn't exist\n",
    "        os.makedirs(path + \"new/\")\n",
    "        print (\"Created /new/ folder\")\n",
    "    for count, image in enumerate(imageList):\n",
    "        if image.lower().endswith(\".jpeg\"): # Rename command for longer file names\n",
    "            new_name = \"%snew/%s%s\" % (path, count+1, image[-5:])\n",
    "        else:\n",
    "            new_name = \"%snew/%s%s\" % (path, count+1, image[-4:])\n",
    "        os.rename(path + image, new_name)\n",
    "        time.sleep(0.08) # Sleep between each command to avoid losing files\n",
    "        \n",
    "    # Move images back from /path/new/ to /path/\n",
    "    for image in os.listdir(path + \"new/\"):\n",
    "        os.rename(path + \"new/\" + image, path + image)\n",
    "        time.sleep(0.08)\n",
    "        \n",
    "    os.rmdir(path + \"new/\") # Delete /path/new/ subfolder\n",
    "    print (\"%i images renamed.\" % len(imageList))"
   ]
  },
  {
   "cell_type": "code",
   "execution_count": 180,
   "metadata": {},
   "outputs": [
    {
     "name": "stdout",
     "output_type": "stream",
     "text": [
      "Created /new/ folder\n",
      "997 images renamed.\n"
     ]
    }
   ],
   "source": [
    "imagePath = \"/Users/CollinHeist/Downloads/Check/SORT/Unnamed/Ungrouped\"\n",
    "imagePath += \"/\"\n",
    "rename = True\n",
    "\n",
    "if rename:\n",
    "    renameAll(imagePath)\n",
    "else:\n",
    "    time_list = np.asarray(checkDupes(imagePath))\n",
    "#     time_list = np.subtract(time_list, time_list[0])\n",
    "#     n = np.arange(-1, len(time_list))[-1:0:-1] # Reverse the list from n -> 0\n",
    "#     create_plot([time_list], [(n, )], [\"$t$\"], [\"n\"], [(\"Images Remaining / Time\", )], 1)"
   ]
  },
  {
   "cell_type": "code",
   "execution_count": null,
   "metadata": {},
   "outputs": [],
   "source": []
  }
 ],
 "metadata": {
  "kernelspec": {
   "display_name": "Python 3",
   "language": "python",
   "name": "python3"
  },
  "language_info": {
   "codemirror_mode": {
    "name": "ipython",
    "version": 3
   },
   "file_extension": ".py",
   "mimetype": "text/x-python",
   "name": "python",
   "nbconvert_exporter": "python",
   "pygments_lexer": "ipython3",
   "version": "3.7.3"
  }
 },
 "nbformat": 4,
 "nbformat_minor": 2
}
