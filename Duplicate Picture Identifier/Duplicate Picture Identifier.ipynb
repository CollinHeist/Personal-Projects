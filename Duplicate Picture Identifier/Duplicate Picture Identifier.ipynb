{
 "cells": [
  {
   "cell_type": "markdown",
   "metadata": {},
   "source": [
    "# Duplicate Picture Identifier\n",
    "##### by Collin Heist\n",
    "## Package Imports"
   ]
  },
  {
   "cell_type": "code",
   "execution_count": 2,
   "metadata": {},
   "outputs": [],
   "source": [
    "# Import the necessary packages\n",
    "from PIL import Image\n",
    "import imagehash\n",
    "import os\n",
    "import time\n",
    "import numpy as np\n",
    "import pandas as pd"
   ]
  },
  {
   "cell_type": "markdown",
   "metadata": {},
   "source": [
    "## Adjustable Variables\n",
    "- `time_per__compare` is how long each comparison takes (taken experimentally)\n",
    "- `hash_threshold` is the maximum acceptable value for a difference between two hashes that will be counted as similar\n",
    "- `progress_report_amount` is how often (in images) to update the user\n",
    "- `moxe_extensions` is a tuple of valid file formats that will be moved when sorting files\n",
    "- `dupe_extensions` is a tuple of valid file formats that are hashed and compared for duplicate identification"
   ]
  },
  {
   "cell_type": "code",
   "execution_count": 3,
   "metadata": {},
   "outputs": [],
   "source": [
    "time_per_compare = 1e-4\n",
    "hash_threshold = 3\n",
    "progress_report_amount = 100\n",
    "move_extensions = (\".jpg\", \".jpeg\", \".png\", \".gif\", \".mp4\", \".mov\")\n",
    "dupe_extensions = (\".jpg\", \".jpeg\", \".png\")"
   ]
  },
  {
   "cell_type": "markdown",
   "metadata": {},
   "source": [
    "## Function to get the image list\n",
    "This function takes a given directory and returns all files that fit either the move or duplicate extension criteria, as set by the value of `move`."
   ]
  },
  {
   "cell_type": "code",
   "execution_count": 119,
   "metadata": {},
   "outputs": [],
   "source": [
    "def get_image_list(path, move=True):\n",
    "    list_of_files = os.listdir(path) # Get a list of all files in the current directory\n",
    "    all_files = list()\n",
    "    # Iterate over all the entries\n",
    "    for entry in list_of_files:\n",
    "        # Create full path\n",
    "        full_path = os.path.join(path, entry)\n",
    "        # If entry is a directory then get the list of files in this directory \n",
    "        if os.path.isdir(full_path):\n",
    "            all_files = all_files + get_image_list(full_path, move)\n",
    "        else:\n",
    "            all_files.append(full_path)\n",
    "                \n",
    "    # Return a filtered list that only contains files who end in the valid extension\n",
    "    return [image for image in all_files if image.lower().endswith(move_extensions)] if move else [image for image in all_files if image.lower().endswith(dupe_extensions)]"
   ]
  },
  {
   "cell_type": "markdown",
   "metadata": {},
   "source": [
    "## Function to estimate the number of comparisons performed"
   ]
  },
  {
   "cell_type": "code",
   "execution_count": 5,
   "metadata": {},
   "outputs": [],
   "source": [
    "def num_comparisons(image_list):\n",
    "    return int(len(image_list) * (len(image_list) + 1) / 2)"
   ]
  },
  {
   "cell_type": "markdown",
   "metadata": {},
   "source": [
    "## Function to check all images in a given path for duplicates\n",
    "This is the coup de grâce; all images in the provided path are compared, duplicates are identified and a convenient `DataFrame` is returned."
   ]
  },
  {
   "cell_type": "code",
   "execution_count": 115,
   "metadata": {},
   "outputs": [],
   "source": [
    "def check_duplicates(path, verbose=True):\n",
    "    image_list = get_image_list(path, move=False)\n",
    "    if verbose:\n",
    "        print (\"%i images, requiring %i comparisons\" % (len(image_list), num_comparisons(image_list)))\n",
    "        print (\"This should take about %f minutes\" % (time_per_compare * num_comparisons(image_list) / 60.0))\n",
    "        start_time = time.time() # Mark the start time for user-notification\n",
    "        \n",
    "    # Loop through all images, calculate the hash and store it and filename in two lists\n",
    "    name_list, hash_list = [], []\n",
    "    for count, image in enumerate(image_list):\n",
    "        name_list.append(image[len(path):])\n",
    "        hash_list.append(imagehash.average_hash(Image.open(image)))\n",
    "        if count % progress_report_amount == 0 and verbose:\n",
    "            print (\"Hashing image #{}, {} hashes to go.\".format(count, len(image_list) - count))\n",
    "    \n",
    "    # Create a DataFrame for managing the hash comparisons and results\n",
    "    df = pd.DataFrame(np.transpose([name_list, hash_list]), columns=[\"File\", \"Hash\"])\n",
    "    df[\"Duplicates\"] = \"\" # Create an empty (for now) DataFrame column\n",
    "    # Loop through all rows of the DataFrame, computing the difference in hashes between all\n",
    "    for row_num, row in df.iterrows():\n",
    "        # Store all file names whose hash is below the threshold in that row's Duplicate column\n",
    "        df.at[row_num, \"Duplicates\"] = \" OR \".join(map(str, df[(~df['Duplicates'].str.contains(row['File']).any()) & (abs(df[\"Hash\"] - row[\"Hash\"]) < hash_threshold) & (df[\"File\"] != row[\"File\"])][\"File\"].values))\n",
    "        if row_num % progress_report_amount == 0 and verbose:\n",
    "            print (\"Computed hash differences on {} images. {} comparisons to go.\".format(row_num+1, num_comparisons(image_list[row_num:])))\n",
    "    \n",
    "    # If applicable, notify the user of how long the operations took\n",
    "    if verbose:\n",
    "        print (\"Took {:.3} minutes\".format((time.time() - start_time) / 60.0))\n",
    "        \n",
    "    # Return the DataFrame - ignoring all entries that do not have duplicates\n",
    "    return df[df[\"Duplicates\"] != \"\"][[\"File\", \"Duplicates\"]]"
   ]
  },
  {
   "cell_type": "markdown",
   "metadata": {},
   "source": [
    "## Specific function to rename the `/grouped/` subfolders"
   ]
  },
  {
   "cell_type": "code",
   "execution_count": 7,
   "metadata": {},
   "outputs": [],
   "source": [
    "# Rename the /Grouped/ subfolder\n",
    "def rename_grouped(path):\n",
    "    image_list = get_image_list(path)\n",
    "    originalLen = len(image_list)\n",
    "    if not os.path.isdir(path + \"new/\"): # Make the /new/ subfolder if it doesn't exist\n",
    "        os.makedirs(path + \"new/\")\n",
    "        print (\"Created /new/ folder\")\n",
    "    adjust_val = 0\n",
    "    for count, image in enumerate(image_list):\n",
    "        group_count = image.split(\"-\")[0] # Grab the group count of this image\n",
    "        # group_list is the list of all image in the same group\n",
    "        group_list = [img for img in image_list if img.split(\"-\")[0] == group_count]\n",
    "         # If the subgroup of this image has already been renamed, adjust the count accordingly\n",
    "        if len(group_list) == 0:\n",
    "            adjust_val += 1\n",
    "        # Loop through all images of this same subgroup\n",
    "        for sub_count, sub_image in enumerate(group_list):\n",
    "            if image.lower().endswith(\".jpeg\"): # New name for longer file names\n",
    "                new_name = \"%snew/%s-%s%s\" % (path, count+1-adjust_val, sub_count+1, image[-5:])\n",
    "            else:\n",
    "                new_name = \"%snew/%s-%s%s\" % (path, count+1-adjust_val, sub_count+1, image[-4:])\n",
    "            os.rename(path + sub_image, new_name) # Move to the /new/ folder (with the new name)\n",
    "            time.sleep(0.08) # Sleep between each command to avoid losing files\n",
    "            \n",
    "        image_list = get_image_list(path) # Reset the image list now that some have been moved\n",
    "        \n",
    "    # Move the images back from /Grouped/new/ to /Grouped/\n",
    "    for image in os.listdir(path + \"new/\"):\n",
    "        os.rename(path + \"new/\" + image, path + image)\n",
    "        time.sleep(0.08)\n",
    "        \n",
    "    os.rmdir(path + \"new\") # Delete /path/new/ subfolder\n",
    "    print (\"%i images renamed.\" % originalLen)"
   ]
  },
  {
   "cell_type": "markdown",
   "metadata": {},
   "source": [
    "## Function to rename all functions in a given directory (1, 2, 3...)"
   ]
  },
  {
   "cell_type": "code",
   "execution_count": 8,
   "metadata": {},
   "outputs": [],
   "source": [
    "def renameAll(path, verbose=True):\n",
    "    if path.endswith(\"Grouped/\") or path.endswith(\"Known/\"): # Prevent accidentally renaming the grouped folder\n",
    "        rename_grouped(path)\n",
    "        return\n",
    "    imageList = get_image_list(path)\n",
    "    if not os.path.isdir(path + \"new/\"): # Make the /new/ subfolder if it doesn't exist\n",
    "        os.makedirs(path + \"new/\")\n",
    "        if verbose:\n",
    "            print (\"Created /new/ folder.\")\n",
    "    for count, image in enumerate(imageList):\n",
    "        if image.lower().endswith(\".jpeg\"): # Rename command for longer file names\n",
    "            new_name = \"%snew/%s%s\" % (path, count+1, image[-5:])\n",
    "        else:\n",
    "            new_name = \"%snew/%s%s\" % (path, count+1, image[-4:])\n",
    "        os.rename(path + image, new_name)\n",
    "        time.sleep(0.08) # Sleep between each command to avoid losing files\n",
    "        \n",
    "    # Move images back from /path/new/ to /path/\n",
    "    for image in os.listdir(path + \"new/\"):\n",
    "        os.rename(path + \"new/\" + image, path + image)\n",
    "        time.sleep(0.08)\n",
    "        \n",
    "    os.rmdir(path + \"new/\") # Delete /path/new/ subfolder\n",
    "    if verbose:\n",
    "        print (\"%i images renamed.\" % len(imageList))"
   ]
  },
  {
   "cell_type": "markdown",
   "metadata": {},
   "source": [
    "# Function Calls"
   ]
  },
  {
   "cell_type": "code",
   "execution_count": 121,
   "metadata": {
    "scrolled": false
   },
   "outputs": [
    {
     "name": "stdout",
     "output_type": "stream",
     "text": [
      "4 images, requiring 10 comparisons\n",
      "This should take about 0.000017 minutes\n",
      "Hashing image #0, 4 hashes to go.\n",
      "Computed hash differences on 1 images. 10 comparisons to go.\n",
      "Took 0.00315 minutes\n"
     ]
    },
    {
     "data": {
      "text/html": [
       "<div>\n",
       "<style scoped>\n",
       "    .dataframe tbody tr th:only-of-type {\n",
       "        vertical-align: middle;\n",
       "    }\n",
       "\n",
       "    .dataframe tbody tr th {\n",
       "        vertical-align: top;\n",
       "    }\n",
       "\n",
       "    .dataframe thead th {\n",
       "        text-align: right;\n",
       "    }\n",
       "</style>\n",
       "<table border=\"1\" class=\"dataframe\">\n",
       "  <thead>\n",
       "    <tr style=\"text-align: right;\">\n",
       "      <th></th>\n",
       "      <th>File</th>\n",
       "      <th>Duplicates</th>\n",
       "    </tr>\n",
       "  </thead>\n",
       "  <tbody>\n",
       "    <tr>\n",
       "      <th>0</th>\n",
       "      <td>test1/2846.png</td>\n",
       "      <td>test1/3279.png OR test2/2846.png OR test2/3279.png</td>\n",
       "    </tr>\n",
       "  </tbody>\n",
       "</table>\n",
       "</div>"
      ],
      "text/plain": [
       "             File                                          Duplicates\n",
       "0  test1/2846.png  test1/3279.png OR test2/2846.png OR test2/3279.png"
      ]
     },
     "metadata": {},
     "output_type": "display_data"
    }
   ],
   "source": [
    "image_path = \"/Users/CollinHeist/Documents/test\"\n",
    "image_path += \"/\"\n",
    "rename = False\n",
    "\n",
    "if rename:\n",
    "    renameAll(image_path, False)\n",
    "else:\n",
    "    with pd.option_context('display.max_rows', 1000, 'display.max_colwidth', 10000):\n",
    "        display(check_duplicates(image_path, True))"
   ]
  },
  {
   "cell_type": "code",
   "execution_count": null,
   "metadata": {},
   "outputs": [],
   "source": []
  }
 ],
 "metadata": {
  "kernelspec": {
   "display_name": "Python 3",
   "language": "python",
   "name": "python3"
  },
  "language_info": {
   "codemirror_mode": {
    "name": "ipython",
    "version": 3
   },
   "file_extension": ".py",
   "mimetype": "text/x-python",
   "name": "python",
   "nbconvert_exporter": "python",
   "pygments_lexer": "ipython3",
   "version": "3.7.3"
  }
 },
 "nbformat": 4,
 "nbformat_minor": 2
}
