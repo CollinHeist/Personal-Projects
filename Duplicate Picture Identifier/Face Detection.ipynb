{
 "cells": [
  {
   "cell_type": "code",
   "execution_count": 3,
   "metadata": {},
   "outputs": [],
   "source": [
    "# https://github.com/ageitgey/face_recognition\n",
    "import face_recognition\n",
    "from sklearn import svm\n",
    "import os"
   ]
  },
  {
   "cell_type": "code",
   "execution_count": 24,
   "metadata": {},
   "outputs": [],
   "source": [
    "valid_extensions = ('.jpg', '.jpeg', '.png', '.heic')\n",
    "named_dir = '/Users/CollinHeist/Documents/GitHub/Personal-Projects/Duplicate Picture Identifier/Named/'\n",
    "search_dir = '/Users/CollinHeist/Documents/GitHub/Personal-Projects/Duplicate Picture Identifier/Search/'"
   ]
  },
  {
   "cell_type": "code",
   "execution_count": 9,
   "metadata": {},
   "outputs": [],
   "source": [
    "def get_image_list(path, ignore_list=[None]):\n",
    "    list_of_files = os.listdir(path) # Get a list of all files in the current directory\n",
    "    all_files = []\n",
    "    # Iterate over all the entries\n",
    "    for entry in list_of_files:\n",
    "        # Create full path\n",
    "        full_path = os.path.join(path, entry)\n",
    "        # If entry is a directory then get the list of files in this directory \n",
    "        if os.path.isdir(full_path) and entry not in ignore_list:\n",
    "            all_files = all_files + get_image_list(full_path, ignore_list)\n",
    "        else:\n",
    "            all_files.append(full_path)\n",
    "                            \n",
    "    # Return a filtered list that only contains files who end in the valid extension\n",
    "    return [image for image in all_files if image.lower().endswith(valid_extensions)]"
   ]
  },
  {
   "cell_type": "code",
   "execution_count": 21,
   "metadata": {},
   "outputs": [],
   "source": [
    "def get_named_encodings(named_dir, ignore_list=[None]):\n",
    "    # Start with empty lists for each encoding and name\n",
    "    encodings, names = [], []\n",
    "    \n",
    "    train_dir_list = get_image_list(named_dir, ignore_list)\n",
    "    for file in train_dir_list:\n",
    "        # Load feature recognition on the current image\n",
    "        face = face_recognition.load_image_file(file)\n",
    "        # Get bounding boxes for each face in the current image\n",
    "        face_boxes = face_recognition.face_locations(face)\n",
    "        # If there is only one face in the current image\n",
    "        if (len(face_boxes) == 1):\n",
    "            face_enc = face_recognition.face_encodings(face)[0]\n",
    "            \n",
    "            names.append(file[len(named_dir):].split('/')[0])\n",
    "            encodings.append(face_enc)\n",
    "            \n",
    "    return names, encodings"
   ]
  },
  {
   "cell_type": "markdown",
   "metadata": {},
   "source": [
    "## Fit the model to the known data"
   ]
  },
  {
   "cell_type": "code",
   "execution_count": 27,
   "metadata": {},
   "outputs": [
    {
     "data": {
      "text/plain": [
       "SVC(C=1.0, break_ties=False, cache_size=200, class_weight=None, coef0=0.0,\n",
       "    decision_function_shape='ovr', degree=3, gamma='scale', kernel='rbf',\n",
       "    max_iter=-1, probability=False, random_state=None, shrinking=True,\n",
       "    tol=0.001, verbose=False)"
      ]
     },
     "execution_count": 27,
     "metadata": {},
     "output_type": "execute_result"
    }
   ],
   "source": [
    "names, encodings = get_named_encodings(named_dir)\n",
    "clf = svm.SVC(gamma='scale')\n",
    "clf.fit(encodings, names)"
   ]
  },
  {
   "cell_type": "markdown",
   "metadata": {},
   "source": [
    "## Test each of the unknown images"
   ]
  },
  {
   "cell_type": "code",
   "execution_count": 28,
   "metadata": {},
   "outputs": [
    {
     "name": "stdout",
     "output_type": "stream",
     "text": [
      "Found 1 faces\n",
      "Found: \n",
      "AN\n"
     ]
    }
   ],
   "source": [
    "for image in get_image_list(search_dir, ['Named']):\n",
    "    # Load the test image with unknown faces into an array\n",
    "    image_enc = face_recognition.load_image_file(image)\n",
    "\n",
    "    # Find all the faces in the test image using default HOG-based model\n",
    "    face_locations = face_recognition.face_locations(image_enc)\n",
    "    num_faces = len(face_locations)\n",
    "    print (\"Found {} faces\".format(num_faces))\n",
    "\n",
    "    print (\"Found: \")\n",
    "    for i in range(num_faces):\n",
    "        test_image_enc = face_recognition.face_encodings(image_enc)[i]\n",
    "        name = clf.predict([test_image_enc])\n",
    "        print(*name)"
   ]
  },
  {
   "cell_type": "code",
   "execution_count": 19,
   "metadata": {},
   "outputs": [
    {
     "name": "stdout",
     "output_type": "stream",
     "text": [
      "Found 1 faces\n",
      "Found: \n",
      "Bella Simpson\n"
     ]
    }
   ],
   "source": [
    "# Load the test image with unknown faces into an array\n",
    "test_image = face_recognition.load_image_file(\"/Users/CollinHeist/Documents/GitHub/Personal-Projects/Duplicate Picture Identifier/Named/IMG_0059.jpeg\")\n",
    "\n",
    "# Find all the faces in the test image using default HOG-based model\n",
    "face_locations = face_recognition.face_locations(test_image)\n",
    "num_faces = len(face_locations)\n",
    "print (\"Found {} faces\".format(num_faces))\n",
    "\n",
    "print (\"Found: \")\n",
    "for i in range(num_faces):\n",
    "    test_image_enc = face_recognition.face_encodings(test_image)[i]\n",
    "    name = clf.predict([test_image_enc])\n",
    "    print(*name)"
   ]
  },
  {
   "cell_type": "code",
   "execution_count": null,
   "metadata": {},
   "outputs": [],
   "source": []
  }
 ],
 "metadata": {
  "kernelspec": {
   "display_name": "Python 3",
   "language": "python",
   "name": "python3"
  },
  "language_info": {
   "codemirror_mode": {
    "name": "ipython",
    "version": 3
   },
   "file_extension": ".py",
   "mimetype": "text/x-python",
   "name": "python",
   "nbconvert_exporter": "python",
   "pygments_lexer": "ipython3",
   "version": "3.7.3"
  }
 },
 "nbformat": 4,
 "nbformat_minor": 2
}
