{
 "cells": [
  {
   "cell_type": "code",
   "execution_count": 73,
   "metadata": {},
   "outputs": [],
   "source": [
    "# https://github.com/ageitgey/face_recognition\n",
    "import face_recognition\n",
    "from PIL import Image, ImageDraw\n",
    "import os\n",
    "import pandas as pd\n",
    "import numpy as np"
   ]
  },
  {
   "cell_type": "markdown",
   "metadata": {},
   "source": [
    "## Get Image List Function"
   ]
  },
  {
   "cell_type": "code",
   "execution_count": 27,
   "metadata": {},
   "outputs": [],
   "source": [
    "def get_image_list(path, ignore_list=[None]):\n",
    "    valid_ext = ('.jpg', '.jpeg')\n",
    "    list_of_files = os.listdir(path) # Get a list of all files in the current directory\n",
    "    all_files = []\n",
    "    # Iterate over all the entries\n",
    "    for entry in list_of_files:\n",
    "        # Create full path\n",
    "        full_path = os.path.join(path, entry)\n",
    "        # If entry is a directory then get the list of files in this directory \n",
    "        if os.path.isdir(full_path) and entry not in ignore_list:\n",
    "            all_files = all_files + get_image_list(full_path, ignore_list, move, videos)\n",
    "        else:\n",
    "            all_files.append(full_path)\n",
    "                            \n",
    "    # Return a filtered list that only contains files who end in the valid extension\n",
    "    return [image for image in all_files if image.lower().endswith(valid_ext)]"
   ]
  },
  {
   "cell_type": "markdown",
   "metadata": {},
   "source": [
    "## Function to Center all Images in a Given Path"
   ]
  },
  {
   "cell_type": "code",
   "execution_count": 182,
   "metadata": {},
   "outputs": [],
   "source": [
    "def center_images(path, guides={\"left-x\": 3039, \"right-x\": 3217, \"bottom-y\": 1556}, end_dims=(6016, 4000)):\n",
    "# def center_images(path, guides={\"left-x\": 2799, \"right-x\": 2977, \"bottom-y\": 2444}, end_dims=(6016, 4000)):\n",
    "    # Get image list\n",
    "    image_list = get_image_list(path)\n",
    "    \n",
    "    for img in image_list:\n",
    "        # Get facial features in the image's face\n",
    "        loaded_image = face_recognition.load_image_file(img)\n",
    "        face_landmarks = face_recognition.face_landmarks(loaded_image)\n",
    "        \n",
    "        # Only center images with one face in it\n",
    "        if len(face_landmarks) == 1:\n",
    "            # Get the coordinate list for the left eye\n",
    "            coords = np.array(face_landmarks[0]['left_eye'])\n",
    "            x_min, x_max, y_max = np.amin(coords, 0)[0], np.amax(coords, 0)[0], np.amax(coords, 0)[1]\n",
    "            \n",
    "            # Transformation values (x, y) -> (ax+by+c, dx+ey+f)\n",
    "            a = (guides['right-x'] - guides['left-x']) / (x_max - x_min)\n",
    "            b = 0\n",
    "            c = guides['left-x'] - (x_min * a)\n",
    "            d = 0\n",
    "            e = a\n",
    "            f = guides['bottom-y'] - (y_max * e)\n",
    "            \n",
    "            # Load current image and scale it up so the eye is the proper size\n",
    "            curr_image = Image.open(img, 'r')\n",
    "            curr_image = curr_image.transform(curr_image.size, Image.AFFINE, (a, b, c, d, e, f))\n",
    "            \n",
    "#             draw = ImageDraw.Draw(curr_image)\n",
    "#             draw.line([0, y_max*e+f, 6016, y_max*e+f], fill=125, width=5) # Horiz\n",
    "#             draw.line([x_min*a+c, 0, x_min*a+c, 4000], fill=125, width=5) # Vert1\n",
    "#             draw.line([x_max*a+c, 0, x_max*a+c, 4000], fill=125, width=5) # Vert2\n",
    "#             curr_image.save('Outputs/test2.png', 'PNG')\n",
    "#             return\n",
    "            \n",
    "            # Transform and export the image\n",
    "            new_image = Image.new('RGBA', end_dims, (0, 0, 0, 0))\n",
    "            new_image.paste(curr_image, (int(c), int(f)))\n",
    "            new_image.save('Outputs/{}.png'.format(img[len(path):]), format='png')"
   ]
  },
  {
   "cell_type": "code",
   "execution_count": 183,
   "metadata": {},
   "outputs": [],
   "source": [
    "input_dir = '/Users/CollinHeist/Documents/GitHub/Personal-Projects/Duplicate Picture Identifier/Inputs/'\n",
    "center_images(input_dir)"
   ]
  },
  {
   "cell_type": "code",
   "execution_count": null,
   "metadata": {},
   "outputs": [],
   "source": []
  }
 ],
 "metadata": {
  "kernelspec": {
   "display_name": "Python 3",
   "language": "python",
   "name": "python3"
  },
  "language_info": {
   "codemirror_mode": {
    "name": "ipython",
    "version": 3
   },
   "file_extension": ".py",
   "mimetype": "text/x-python",
   "name": "python",
   "nbconvert_exporter": "python",
   "pygments_lexer": "ipython3",
   "version": "3.7.3"
  }
 },
 "nbformat": 4,
 "nbformat_minor": 2
}
