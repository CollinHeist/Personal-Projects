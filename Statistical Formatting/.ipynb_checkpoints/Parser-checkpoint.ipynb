{
 "cells": [
  {
   "cell_type": "code",
   "execution_count": 51,
   "metadata": {},
   "outputs": [],
   "source": [
    "import os       # Used to delete old .png images\n",
    "import datetime # For sorting screenshots into correct times\n",
    "from skimage.measure import compare_ssim as ssim # Sctructural Similarity algorithm, used to get numbers from times\n",
    "from skimage import data, img_as_float\n",
    "from PIL import Image # For converting .png to .jpg\n",
    "import numpy as np # Basic numper arithmetic\n",
    "import cv2 # Computer Vision\n",
    "import pandas as pd\n",
    "import time\n",
    "from dateutil.parser import parse # Needed for turning date + time strings into datetime format"
   ]
  },
  {
   "cell_type": "code",
   "execution_count": 52,
   "metadata": {},
   "outputs": [],
   "source": [
    "path = \"/Users/CollinHeist/Documents/GitHub/Personal-Projects/Statistical Formatting/Screenshots/\"\n",
    "csv_path = \"/Users/CollinHeist/Documents/GitHub/Personal-Projects/Statistical Formatting/data.csv\"\n",
    "references = '/Users/CollinHeist/Documents/GitHub/Personal-Projects/Statistical Formatting/Reference Images/'"
   ]
  },
  {
   "cell_type": "code",
   "execution_count": 53,
   "metadata": {},
   "outputs": [],
   "source": [
    "# Grab all images at the provided path\n",
    "def getImageList(path):\n",
    "    files = os.listdir(path)\n",
    "    image_list = [item for item in files if item.endswith((\".jpg\", \".png\"))]\n",
    "    \n",
    "    return image_list"
   ]
  },
  {
   "cell_type": "code",
   "execution_count": 54,
   "metadata": {},
   "outputs": [],
   "source": [
    "# Convert the provided image list to JPG files\n",
    "def convertToJPG(imageList, verbose=False):\n",
    "    if verbose:\n",
    "        print (\"Converting all .png images to .jpg files..\")\n",
    "        \n",
    "    for items in imageList: # Loop through all images\n",
    "        if items.endswith(\".png\"):\n",
    "            im = Image.open(path + items)\n",
    "            rgb_im = im.convert(\"RGB\")\n",
    "            rgb_im.save(path + items[:-3] + \"jpg\") # Change extension\n",
    "            os.system(\"rm \\\"%s\\\"\" % (path + items)) # Delete old .png file\n",
    "            time.sleep(0.06)"
   ]
  },
  {
   "cell_type": "code",
   "execution_count": 55,
   "metadata": {},
   "outputs": [],
   "source": [
    "# Crop the provided image\n",
    "def cropImage(image):\n",
    "    im = Image.open(path + image)\n",
    "    cropRegion = (0, 575, 1125, 795) # (startX, startY, endX, endY)\n",
    "    region = im.crop(cropRegion)\n",
    "    region.save(path + image[:-4] + \" - Cropped.jpg\")\n",
    "    os.system(\"mv \\\"%s\\\" \\\"%s\\\"\" % (path + image, path[:-12] + \"/Processed/\")) # Move the OG image into /Processed/\n",
    "    time.sleep(0.06)"
   ]
  },
  {
   "cell_type": "code",
   "execution_count": 56,
   "metadata": {},
   "outputs": [],
   "source": [
    "# Take the cropped image and divide it into each number for processing\n",
    "def subdivideImage(cropped_image):\n",
    "    min_l = (33, 0, 188, 220)\n",
    "    min_r = (188, 0, 343, 220)\n",
    "    sec_l = (403, 0, 558, 220)\n",
    "    sec_r = (558, 0, 713, 220)\n",
    "    milSec_l = (773, 0, 928, 220)\n",
    "    \n",
    "    # Crop and save the new images\n",
    "    im = Image.open(path + cropped_image)\n",
    "    region = im.crop(min_l)\n",
    "    region.save(path + cropped_image[:-4] + \" minL.jpg\")\n",
    "    region = im.crop(min_r)\n",
    "    region.save(path + cropped_image[:-4] + \" minR.jpg\")\n",
    "    region = im.crop(sec_l)\n",
    "    region.save(path + cropped_image[:-4] + \" secL.jpg\")\n",
    "    region = im.crop(sec_r)\n",
    "    region.save(path + cropped_image[:-4] + \" secR.jpg\")\n",
    "    region = im.crop(milSec_l)\n",
    "    region.save(path + cropped_image[:-4] + \" milSecL.jpg\")\n",
    "\n",
    "    return (cropped_image[:-4] + \" minL.jpg\", cropped_image[:-4] + \" minR.jpg\", cropped_image[:-4] + \" secL.jpg\", \n",
    "            cropped_image[:-4] + \" secR.jpg\", cropped_image[:-4] + \" milSecL.jpg\")"
   ]
  },
  {
   "cell_type": "code",
   "execution_count": 57,
   "metadata": {},
   "outputs": [],
   "source": [
    "# Return a tuble containing the date of the picture and the end time ('MON DD', 'HH MM')\n",
    "def grabTimeData(image):\n",
    "    # date ('MON DD') and time ('HH MM')\n",
    "    _, mon, day, hour, minute, _, am_pm = image.split(\" \")\n",
    "    date = mon + \" \" + day[:-1]\n",
    "    hour = str(int(hour) + 12) if am_pm[:2] == \"PM\" and int(hour) < 12 else hour\n",
    "    hour = \"00\" if hour == \"12\" and am_pm[:2] == \"AM\" else hour\n",
    "    t = hour + \":\" + minute\n",
    "\n",
    "    return (date, t)"
   ]
  },
  {
   "cell_type": "code",
   "execution_count": 58,
   "metadata": {},
   "outputs": [],
   "source": [
    "# Return a 0 or 9 depending on the number of white cells in the provided subImage\n",
    "def testZeroNine(image):\n",
    "    img = Image.open(path + image)\n",
    "    sub_section = (40, 107, 115, 152)\n",
    "    region = img.crop(sub_section)\n",
    "\n",
    "    # Test whether it is a nine or zero by counting the number of white cells in the middle region\n",
    "    whiteCount = 0\n",
    "    for pixel in list(region.getdata()):\n",
    "        whiteCount = (whiteCount + 1) if pixel == (255, 255, 255) else (whiteCount)\n",
    "\n",
    "    return (9 if whiteCount > 150 else 0) # Arbitrary test of >150 seems to work all the time | initial test had 250"
   ]
  },
  {
   "cell_type": "code",
   "execution_count": 59,
   "metadata": {},
   "outputs": [],
   "source": [
    "# Evaluates which number the passed image is using the SSI formula\n",
    "def structuralSimilarityIndex(image):\n",
    "    curr_img = Image.open(path + image)\n",
    "    closeness = []\n",
    "    # Compare the passed image to 0 through 9 to see which is closest\n",
    "    for i in range(10):\n",
    "        ref_img = Image.open(\"{}{}.jpg\".format(references, i))\n",
    "        struct_sim = ssim(img_as_float(ref_img), img_as_float(curr_img), multichannel=True)\n",
    "        closeness.append(struct_sim)\n",
    "\n",
    "    # If the highest val is a 0 or 9, and there is doubt, verify w/ testZeroNine | Else return index of max value\n",
    "    return (testZeroNine(image) if np.argmax(closeness) in (0, 9) and abs(closeness[0]-closeness[8]) < .12 else np.argmax(closeness))"
   ]
  },
  {
   "cell_type": "code",
   "execution_count": 60,
   "metadata": {},
   "outputs": [],
   "source": [
    "def obtainData(verbose = False):\n",
    "    images = getImageList(path)\n",
    "    convertToJPG(images, verbose)\n",
    "    images = getImageList(path)\n",
    "\n",
    "    if verbose:\n",
    "        print (\"Grabbing data from images..\")\n",
    "\n",
    "    # Fill each dataList with the corresponding data for each image\n",
    "    endDateList = []\n",
    "    endTimeList = []\n",
    "    durationList = []\n",
    "    for image in images:\n",
    "        t = grabTimeData(image) # A tuple that is (\"MON DD\", \"HH MM\")\n",
    "\n",
    "        cropImage(image) # Changes the name of the file itself\n",
    "        image = image[:-4] + \" - Cropped.jpg\" # Update image file name to the cropped one\n",
    "        im = Image.open(path + image)\n",
    "\n",
    "        tempDur = [] # Use a list object so we can retroactively alter the seconds place for rounding\n",
    "        dividedImages = subdivideImage(image) # Tuple of the subdivided image names\n",
    "        for count, subImages in enumerate(dividedImages):\n",
    "            val = structuralSimilarityIndex(subImages) # Grab the value that is the closest to the image\n",
    "            os.system(\"rm \\\"%s\\\"\" % (path + subImages)) # Delete the old file\n",
    "            if count == 2:\n",
    "                tempDur.append(\":\")\n",
    "            elif count == 4: # We do not actually want to append the decimal value | Just use it for rounding\n",
    "                if val >= 5: # \"00:00\"\n",
    "                    if tempDur[4] == \"9\": # Round over to the next 10s second\n",
    "                        if tempDur[3] == \"5\": # Round over to the next minute\n",
    "                            if tempDur[1] == \"9\":\n",
    "                                tempDur[0] = str(int(tempDur[0]) + 1)\n",
    "                                tempDur[1] = \"0\"\n",
    "                            else:\n",
    "                                tempDur[1] = str(int(tempDur[1]) + 1)\n",
    "                            tempDur[3] = \"0\"\n",
    "                        else:\n",
    "                            tempDur[3] = str(int(tempDur[3]) + 1)\n",
    "                        tempDur[4] = \"0\"\n",
    "                    else:\n",
    "                        tempDur[4] = str(int(tempDur[4]) + 1)\n",
    "                break\n",
    "            tempDur.append(str(val))\n",
    "\n",
    "        os.system(\"rm \\\"%s\\\"\" % (path + image)) # Delete the old file\n",
    "\n",
    "        tempDur.pop(0) if tempDur[0] == \"0\" else None # Remove the leading 0 on the duration\n",
    "        tempDuration = ''.join(tempDur) # Convert the list tempDur object into a String\n",
    "\n",
    "        endDateList.append(t[0])\n",
    "        endTimeList.append(t[1])\n",
    "        durationList.append(tempDuration)\n",
    "\n",
    "    return (endDateList, endTimeList, durationList)"
   ]
  },
  {
   "cell_type": "code",
   "execution_count": 61,
   "metadata": {},
   "outputs": [],
   "source": [
    "# Change the dateList format from strings to ordinal values\n",
    "def formatData(dateList, verbose = False):\n",
    "    if verbose:\n",
    "        print (\"Formatting date values, changing months to ordinal values..\")\n",
    "\n",
    "    # Jan, Feb, Mar, Apr, May, Jun, Jul, Aug, Sep, Oct, Nov, Dec\n",
    "    monthDict = {\"Jan\": \"01\", \"Feb\": \"02\", \"Mar\": \"03\", \"Apr\": \"04\", \"May\": \"05\", \"Jun\": \"06\",\n",
    "                 \"Jul\": \"07\", \"Aug\": \"08\", \"Sep\": \"09\", \"Oct\": \"10\", \"Nov\": \"11\", \"Dec\": \"12\"}\n",
    "    reformattedList = [] # Return a corrected version of dateList\n",
    "    for days in dateList:\n",
    "        month = days[:3] # Grab the month text\n",
    "        monthVal = monthDict[month] # Reference the month-dict for the correct number\n",
    "        reformattedList.append(monthVal + \"/\" + days[4:])\n",
    "\n",
    "    return reformattedList"
   ]
  },
  {
   "cell_type": "code",
   "execution_count": 62,
   "metadata": {},
   "outputs": [],
   "source": [
    "# Sort the provided DataFrame by combined Date and Time contained within\n",
    "def sortDataFrame(df, verbose = False):\n",
    "    dt = [parse(dt + \" \" + tm) for (dt, tm) in zip(df.Date, df.Time)]\n",
    "    df.insert(0, \"DateTime\", dt) # Add the newly formed datetime column to the existing DF\n",
    "    df.sort_values(by=\"DateTime\", inplace=True) # Sort the DataFrame by the datetime column\n",
    "    df.reset_index(drop=True, inplace=True) # Change the index of each row to 0->n-1 after the sorting\n",
    "    df = df.drop(columns=\"DateTime\") # Remove the datetime column\n",
    "    \n",
    "    return df"
   ]
  },
  {
   "cell_type": "code",
   "execution_count": 63,
   "metadata": {},
   "outputs": [],
   "source": [
    "# Change duration and date values to their spreadsheet required formats\n",
    "def addDurationYear(df, year = 2019, verbose = False):\n",
    "    if verbose:\n",
    "        print (\"Appending year to all dates, changing duration values..\")\n",
    "        \n",
    "    df.Date = df.Date + \"/\" + str(year) # Add year\n",
    "    df.Duration = [\"0:0\" + d if d[1] == \":\" else \"0:\" + d for d in df.Duration] # Add \"0:0\" or \"0:\" to durations\n",
    "    \n",
    "    return df"
   ]
  },
  {
   "cell_type": "code",
   "execution_count": 64,
   "metadata": {},
   "outputs": [],
   "source": [
    "# Format the existing DataFrame for the export to Google Sheets, i.e. no repeat dates, and blank dates\n",
    "def formatForOutput(df, verbose = False):\n",
    "    date = parse(df.Date[0]) # The first date of the DataFrame (as datetime)\n",
    "    last_date = parse(df.Date.iloc[-1]) # The last date of the DataFrame (as datetime)\n",
    "    dt = [parse(dt + \" \" + tm) for (dt, tm) in zip(df.Date, df.Time)] # Create datetime column\n",
    "    df.insert(0, \"DateTime\", dt) # Add the newly formed datetime column to the existing DF\n",
    "    while True:\n",
    "        if df[df.Date == date.strftime(\"%m/%d/%Y\")].shape[0] == 0: # If the date doesn't exist in the DF\n",
    "            df.loc[len(df)] = [date, date.strftime(\"%m/%d/%Y\"), \"\", \"\"] # Add an empty date\n",
    "        elif df[df.Date == date.strftime(\"%m/%d/%Y\")].shape[0] > 1: # If there is more than one item per-date in the DF\n",
    "            temp_date = [\"\"] * df[df.Date == date.strftime(\"%m/%d/%Y\")].shape[0] # Create a blank array of the proper size\n",
    "            temp_date[0] = date.strftime(\"%m/%d/%Y\") # Set the first value in the array to the current date\n",
    "            df.loc[df.Date == date.strftime(\"%m/%d/%Y\"), \"Date\"] = temp_date # Remove repeat dates\n",
    "            \n",
    "        # If we processed the last day, leave the infinite loop\n",
    "        if date == last_date: \n",
    "            break\n",
    "        date += datetime.timedelta(days=1) # Move onto the next day\n",
    "\n",
    "    # Add a datetime column that's both Date+Time, used for sorting\n",
    "    df.sort_values(by=\"DateTime\", inplace=True) # Sort by those datetime columns\n",
    "    df.reset_index(drop=True, inplace=True) # Reset indices now that the array is sorted\n",
    "    df = df.drop(columns=\"DateTime\") # Remove the datetime column, not used in export\n",
    "    \n",
    "    return df"
   ]
  },
  {
   "cell_type": "markdown",
   "metadata": {},
   "source": [
    "## Read images, place into DataFrame, format for Google Sheets"
   ]
  },
  {
   "cell_type": "code",
   "execution_count": 65,
   "metadata": {},
   "outputs": [
    {
     "name": "stdout",
     "output_type": "stream",
     "text": [
      "Converting all .png images to .jpg files..\n",
      "Grabbing data from images..\n",
      "Formatting date values, changing months to ordinal values..\n",
      "\n",
      "Appending year to all dates, changing duration values..\n"
     ]
    }
   ],
   "source": [
    "# Grab the data from each image\n",
    "date, Time, duration = obtainData(verbose=True)\n",
    "# Turn all string months to numeric months\n",
    "date = formatData(date, verbose=True)\n",
    "# Convert each array of data to a combined DataFrame\n",
    "df = pd.DataFrame(data=np.c_[date, Time, duration], columns=[\"Date\", \"Time\", \"Duration\"])\n",
    "# Sort the set of data by the combined date and time\n",
    "df = sortDataFrame(df, verbose=True)\n",
    "# Append 2019 to the DataFrame\n",
    "df = addDurationYear(df, year=2020, verbose=True)\n",
    "# Format the DataFrame so it can be direcly exported to Google Sheets\n",
    "df = formatForOutput(df)"
   ]
  },
  {
   "cell_type": "markdown",
   "metadata": {},
   "source": [
    "## Export DataFrame to CSV"
   ]
  },
  {
   "cell_type": "code",
   "execution_count": 66,
   "metadata": {},
   "outputs": [],
   "source": [
    "df.to_csv(csv_path, index=False)"
   ]
  },
  {
   "cell_type": "code",
   "execution_count": null,
   "metadata": {},
   "outputs": [],
   "source": []
  }
 ],
 "metadata": {
  "kernelspec": {
   "display_name": "Python 3",
   "language": "python",
   "name": "python3"
  },
  "language_info": {
   "codemirror_mode": {
    "name": "ipython",
    "version": 3
   },
   "file_extension": ".py",
   "mimetype": "text/x-python",
   "name": "python",
   "nbconvert_exporter": "python",
   "pygments_lexer": "ipython3",
   "version": "3.7.3"
  }
 },
 "nbformat": 4,
 "nbformat_minor": 2
}
