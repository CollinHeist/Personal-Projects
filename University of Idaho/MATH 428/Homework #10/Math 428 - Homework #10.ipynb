{
 "cells": [
  {
   "cell_type": "markdown",
   "metadata": {},
   "source": [
    "# Math 428 - Homework for 03/27/19"
   ]
  },
  {
   "cell_type": "code",
   "execution_count": 2,
   "metadata": {},
   "outputs": [],
   "source": [
    "import numpy as np\n",
    "# The matrix itself\n",
    "matr = np.array([[1, 4, 9, 16, 25],\n",
    "                 [4, 9, 16, 25, 36],\n",
    "                 [9, 16, 25, 36, 49],\n",
    "                 [16, 25, 36, 49, 64],\n",
    "                 [25, 36, 49, 64, 81]])\n",
    "\n",
    "# The inverse of the matrix\n",
    "matr_inv = np.linalg.inv(matr)"
   ]
  },
  {
   "cell_type": "markdown",
   "metadata": {},
   "source": [
    "### The Matrix $A$, and its inverse $A^{-1}$"
   ]
  },
  {
   "cell_type": "code",
   "execution_count": 43,
   "metadata": {},
   "outputs": [
    {
     "name": "stdout",
     "output_type": "stream",
     "text": [
      "A:\n",
      " [[ 1  4  9 16 25]\n",
      " [ 4  9 16 25 36]\n",
      " [ 9 16 25 36 49]\n",
      " [16 25 36 49 64]\n",
      " [25 36 49 64 81]] \n",
      "\n",
      "A-Inverse:\n",
      " [[-2.79988551e+14  6.57270421e+14 -2.91879957e+14 -2.68097145e+14\n",
      "   1.82695232e+14]\n",
      " [ 5.21059774e+14 -1.32751328e+15  8.56181206e+14  1.85938343e+14\n",
      "  -2.35666039e+14]\n",
      " [ 1.16751983e+14  3.89173276e+13 -8.17263879e+14  1.05076784e+15\n",
      "  -3.89173276e+14]\n",
      " [-6.76729085e+14  1.27562351e+15  2.33503965e+14 -1.58696213e+15\n",
      "   7.54563740e+14]\n",
      " [ 3.18905879e+14 -6.44297978e+14  1.94586638e+13  6.18353093e+14\n",
      "  -3.12419657e+14]]\n"
     ]
    }
   ],
   "source": [
    "print (\"A:\\n\", np.c_[matr], \"\\n\\nA-Inverse:\\n\", np.c_[matr_inv])"
   ]
  },
  {
   "cell_type": "markdown",
   "metadata": {},
   "source": [
    "### The row sums of $A$ and $A^{-1}$"
   ]
  },
  {
   "cell_type": "code",
   "execution_count": 55,
   "metadata": {},
   "outputs": [
    {
     "name": "stdout",
     "output_type": "stream",
     "text": [
      "Row sum of A:\n",
      " [[ 55]\n",
      " [ 90]\n",
      " [135]\n",
      " [190]\n",
      " [255]] \n",
      "\n",
      "Row Sum of A-Inverse:\n",
      " [[1.67993131e+15]\n",
      " [3.12635864e+15]\n",
      " [2.41287431e+15]\n",
      " [4.52738243e+15]\n",
      " [1.91343527e+15]]\n",
      "\n",
      "The condition number of the matrix is: 1154482519649999872\n"
     ]
    }
   ],
   "source": [
    "# Calculate the row sums of the matrix and its inverse\n",
    "matr_row_sums = np.sum(np.absolute(matr), axis=1)\n",
    "matr_inv_row_sums = np.sum(np.absolute(matr_inv), axis=1)\n",
    "\n",
    "print (\"Row sum of A:\\n\", np.c_[matr_row_sums],\n",
    "       \"\\n\\nRow Sum of A-Inverse:\\n\", np.c_[matr_inv_row_sums])\n",
    "\n",
    "# Compute the condition number\n",
    "cond_number = np.amax(matr_row_sums) * np.amax(matr_inv_row_sums)\n",
    "print (\"\\nThe condition number of the matrix is: %i\" % cond_number)"
   ]
  },
  {
   "cell_type": "code",
   "execution_count": 37,
   "metadata": {},
   "outputs": [
    {
     "name": "stdout",
     "output_type": "stream",
     "text": [
      "Suspected Digits of A: 18, Significant Digits in IEEE standards: 7\n"
     ]
    }
   ],
   "source": [
    "c = np.log10(cond_number)\n",
    "t = abs(np.log10(2 ** -24))\n",
    "print (\"Suspected Digits in A: %i, Significant Digits in IEEE standards: %i\" % (c ,t))"
   ]
  },
  {
   "cell_type": "markdown",
   "metadata": {},
   "source": [
    "Since the number of suspected digits is so much higher than the number of significant digits in the IEEE standard, the solution is only valid to $t-c$ digits, which is -11 (zero). Meaning the solution may be entirely invalid, because __the system is so ill-conditioned__.\n",
    "## Part (b)\n",
    "### Normalizing the matrix into $A_N$ and $A_N^{-1}$"
   ]
  },
  {
   "cell_type": "code",
   "execution_count": 56,
   "metadata": {},
   "outputs": [
    {
     "name": "stdout",
     "output_type": "stream",
     "text": [
      "Normalized A:\n",
      " [[0.04       0.16       0.36       0.64       1.        ]\n",
      " [0.11111111 0.25       0.44444444 0.69444444 1.        ]\n",
      " [0.18367347 0.32653061 0.51020408 0.73469388 1.        ]\n",
      " [0.25       0.390625   0.5625     0.765625   1.        ]\n",
      " [0.30864198 0.44444444 0.60493827 0.79012346 1.        ]] \n",
      "\n",
      "Inverse of Normalized A:\n",
      " [[ 1.79512102e+14 -1.25227643e+15  3.00239975e+15 -3.00239975e+15\n",
      "   1.07276432e+15]\n",
      " [ 3.59024205e+13  1.55098457e+15 -6.75539944e+15  9.00719925e+15\n",
      "  -3.83868680e+15]\n",
      " [-1.18477988e+15  2.86070487e+15  2.25179981e+15 -9.00719925e+15\n",
      "   5.07947445e+15]\n",
      " [ 1.54380408e+15 -5.36525772e+15  3.75299969e+15  3.00239975e+15\n",
      "  -2.93394580e+15]\n",
      " [-5.74438728e+14  2.20584472e+15 -2.25179981e+15 -0.00000000e+00\n",
      "   6.20393826e+14]]\n"
     ]
    }
   ],
   "source": [
    "# Normalize the matrix\n",
    "matr_norm = [matr[i] / np.amax(matr[i]) for i in range(len(matr))]\n",
    "# Calcualate the inverse of the normalized matrix\n",
    "matr_norm_inv = np.linalg.inv(matr_norm)\n",
    "print (\"Normalized A:\\n\", np.c_[matr_norm],\n",
    "       \"\\n\\nInverse of Normalized A:\\n\", np.c_[matr_norm_inv])"
   ]
  },
  {
   "cell_type": "markdown",
   "metadata": {},
   "source": [
    "### Row sums of the normalized matrix $A_N$ and $A_N^{-1}$"
   ]
  },
  {
   "cell_type": "code",
   "execution_count": 57,
   "metadata": {},
   "outputs": [
    {
     "name": "stdout",
     "output_type": "stream",
     "text": [
      "Row sum of A:\n",
      " [[2.2       ]\n",
      " [2.5       ]\n",
      " [2.75510204]\n",
      " [2.96875   ]\n",
      " [3.14814815]] \n",
      "\n",
      "Row Sum of A-Inverse:\n",
      " [[8.50935236e+15]\n",
      " [2.11881725e+16]\n",
      " [2.03839583e+16]\n",
      " [1.65984070e+16]\n",
      " [5.65247708e+15]]\n",
      "\n",
      "The condition number of the normalized matrix is: 66703505960518768\n"
     ]
    }
   ],
   "source": [
    "# Calculate the row sums, now using the normalized matrices\n",
    "matr_norm_row_sums = np.sum(np.absolute(matr_norm), axis=1)\n",
    "matr_norm_inv_row_sums = np.sum(np.absolute(matr_norm_inv), axis=1)\n",
    "\n",
    "print (\"Row sum of A:\\n\", np.c_[matr_norm_row_sums],\n",
    "       \"\\n\\nRow Sum of A-Inverse:\\n\", np.c_[matr_norm_inv_row_sums])\n",
    "\n",
    "# Compute the condition number\n",
    "norm_cond_number = np.amax(matr_norm_row_sums) * np.amax(matr_norm_inv_row_sums)\n",
    "print (\"\\nThe condition number of the normalized matrix is: %i\" % norm_cond_number)"
   ]
  },
  {
   "cell_type": "code",
   "execution_count": 58,
   "metadata": {},
   "outputs": [
    {
     "name": "stdout",
     "output_type": "stream",
     "text": [
      "Suspected Digits in A: 16, Significant Digits in IEEE standards: 7\n"
     ]
    }
   ],
   "source": [
    "c_norm = np.log10(norm_cond_number)\n",
    "t_norm = abs(np.log10(2 ** -24))\n",
    "print (\"Suspected Digits in A: %i, Significant Digits in IEEE standards: %i\" % (c_norm , t_norm))"
   ]
  },
  {
   "cell_type": "markdown",
   "metadata": {},
   "source": [
    "Once again, due to the terrible conditioning of the system, the digits of precision lost (computed by $t-c$), is a negative number (0); meaning all the digits may be invalid."
   ]
  }
 ],
 "metadata": {
  "kernelspec": {
   "display_name": "Python 3",
   "language": "python",
   "name": "python3"
  },
  "language_info": {
   "codemirror_mode": {
    "name": "ipython",
    "version": 3
   },
   "file_extension": ".py",
   "mimetype": "text/x-python",
   "name": "python",
   "nbconvert_exporter": "python",
   "pygments_lexer": "ipython3",
   "version": "3.7.0"
  }
 },
 "nbformat": 4,
 "nbformat_minor": 2
}
