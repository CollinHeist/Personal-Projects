{
 "cells": [
  {
   "cell_type": "markdown",
   "metadata": {},
   "source": [
    "# ECE 462 - Exam #4\n",
    "## Collin Heist\n",
    "\n",
    "## Question 1\n",
    "\n",
    "The particle is most likely to transition to the fourth state (this optimally interacts with the perturbation), and the purturbation of this eigenenergy is the highest (see below):\n",
    "\n",
    "$$\\epsilon_1^1=<\\phi_1|H_P|\\phi_1>=\\int_{3.25}^{4.25}(\\sqrt{\\frac{2}{10}}sin(\\frac{\\pi x}{10}))^2dx=0.169553\\text{ meV}$$\n",
    "\n",
    "$$\\epsilon_2^1=<\\phi_2|H_P|\\phi_2>=\\int_{3.25}^{4.25}(\\sqrt{\\frac{2}{10}}sin(\\frac{2\\pi x}{10}))^2dx=0.1\\text{ meV}$$\n",
    "\n",
    "$$\\epsilon_3^1=<\\phi_3|H_P|\\phi_3>=\\int_{3.25}^{4.25}(\\sqrt{\\frac{2}{10}}sin(\\frac{3\\pi x}{10}))^2dx=0.0393024\\text{ meV}$$\n",
    "\n",
    "$$\\epsilon_4^1=<\\phi_4|H_P|\\phi_4>=\\int_{3.25}^{4.25}(\\sqrt{\\frac{2}{10}}sin(\\frac{4\\pi x}{10}))^2dx=0.175683\\text{ meV}$$\n",
    "\n",
    "The required energy for this transition would be:\n",
    "\n",
    "$$\\Delta E=\\epsilon_4-\\epsilon_1=60-3.75=56.25\\text{ meV}$$\n",
    "\n",
    "$$E=hf\\rightarrow56.25\\cdot10^{-3}\\text{ eV}=4.135\\cdot10^{-15}\\text{ eV/s}\\cdot f$$\n",
    "\n",
    "$$f=1.36\\cdot10^{13} Hz$$"
   ]
  },
  {
   "cell_type": "markdown",
   "metadata": {},
   "source": [
    "## Question 2\n",
    "\n",
    "Since $\\hat{a}^+\\hat{a}=\\hat{n}$, and $\\hat{n}\\phi_3=\\epsilon_3$, the expectation of $\\Psi$ is:\n",
    "\n",
    "$$E_3=(n+\\frac{1}{2})E_{ref}=\\frac{7\\cdot E_{ref}}{2}=0.035\\text{ eV}$$"
   ]
  },
  {
   "cell_type": "markdown",
   "metadata": {},
   "source": [
    "## Question 3\n",
    "\n",
    "The green's function can be used here as the perturbation can be treated as a forcing function with an oscillating frequency ($\\omega_L$), whose eigenvalues are $\\gamma_n$ or $\\epsilon_n$."
   ]
  },
  {
   "cell_type": "markdown",
   "metadata": {},
   "source": [
    "## Question 4\n",
    "\n",
    "### Part a\n",
    "\n",
    "Fermi's Golden Rule is the formula that gives a _transition rate_ for some particle in a given eigenstate to a different eigenstate due to some perturbation on the space containing the particle.\n",
    "\n",
    "### Part b\n",
    "\n",
    "For a system with degenerate eigenstates, the _good_ states are states who, once perturbed, return to their original eigenstate once that perturbation is removed. In particular, because the states are degenerate, the values for $\\alpha$ and $\\beta$ must be such that this _good_ state is a unique linear combination of some unperturbed eigenstates. "
   ]
  }
 ],
 "metadata": {
  "kernelspec": {
   "display_name": "Python 3",
   "language": "python",
   "name": "python3"
  },
  "language_info": {
   "codemirror_mode": {
    "name": "ipython",
    "version": 3
   },
   "file_extension": ".py",
   "mimetype": "text/x-python",
   "name": "python",
   "nbconvert_exporter": "python",
   "pygments_lexer": "ipython3",
   "version": "3.7.7"
  }
 },
 "nbformat": 4,
 "nbformat_minor": 4
}
