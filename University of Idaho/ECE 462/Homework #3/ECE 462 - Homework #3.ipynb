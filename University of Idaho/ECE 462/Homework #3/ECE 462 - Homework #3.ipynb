{
 "cells": [
  {
   "cell_type": "markdown",
   "metadata": {},
   "source": [
    "# ECE 462 - Homework #3\n",
    "\n",
    "#### Collin Heist"
   ]
  },
  {
   "cell_type": "markdown",
   "metadata": {},
   "source": [
    "## Problem 2.1.3\n",
    "\n",
    "The particle's position is dependent upon it's energy state. The only certainty we have of the particle's position is that it does not exist at the boundary conditions. The higher order the particle's state, the more _nodes_ the function is likely to exist at (peaks in the square of the particle's distribution center).\n",
    "\n",
    "To quantatively determine the particle's position, this can be evaluated with:\n",
    "\n",
    "$$\\Psi (x) ^2$$"
   ]
  },
  {
   "cell_type": "markdown",
   "metadata": {},
   "source": [
    "## Problem 2.1.6\n",
    "\n",
    "If the floor of the infinite well is set to $3 \\text{eV}$ instead of $0$, then the frequency of the ground-level oscillation would change to reflect this higher energy level. This would directly result in a lower \"revival\" time (i.e. faster oscillation)."
   ]
  },
  {
   "cell_type": "markdown",
   "metadata": {},
   "source": [
    "## Problem 2.2.3\n",
    "\n",
    "$$\\Psi = \\sum_{n} c_n\\phi _n\\text{, or }\\Psi=\\sum_nd_n\\theta_n$$\n",
    "\n",
    "### Part (a)\n",
    "\n",
    "\n",
    "$$<E>=c_1^2\\phi_1+c_2^2\\phi_2$$\n",
    "\n",
    "### Part (b)\n",
    "\n",
    "$$\\Psi_0=d_1\\phi_1+d_2\\phi_2$$"
   ]
  }
 ],
 "metadata": {
  "kernelspec": {
   "display_name": "Python 3",
   "language": "python",
   "name": "python3"
  },
  "language_info": {
   "codemirror_mode": {
    "name": "ipython",
    "version": 3
   },
   "file_extension": ".py",
   "mimetype": "text/x-python",
   "name": "python",
   "nbconvert_exporter": "python",
   "pygments_lexer": "ipython3",
   "version": "3.7.3"
  }
 },
 "nbformat": 4,
 "nbformat_minor": 2
}
