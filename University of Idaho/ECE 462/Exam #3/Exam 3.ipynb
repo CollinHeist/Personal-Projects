{
 "cells": [
  {
   "cell_type": "markdown",
   "metadata": {},
   "source": [
    "# ECE 462 - Exam #3\n",
    "## Collin Heist\n",
    "\n",
    "## Question 1\n",
    "\n",
    "$$f_F(E)=\\frac{1}{1+e^{\\frac{E-E_F}{k_BT}}}$$\n",
    "\n",
    "$$f_F(0.05\\text{eV})=\\frac{1}{1+e^{\\frac{0.05-0.015}{8.62\\cdot 10^{-5}\\cdot450}}}$$\n",
    "\n",
    "$$f_F(0.05\\text{eV})=0.2885=28.85\\%$$"
   ]
  },
  {
   "cell_type": "markdown",
   "metadata": {},
   "source": [
    "## Question 2\n",
    "\n",
    "$$E_{n,m}=\\frac{\\hbar ^2\\pi ^2}{2m}\\cdot(\\frac{n^2}{a^2}+\\frac{m^2}{b^2})$$\n",
    "\n",
    "A 10 Angstrom lattice can be related to the 10 nanometer lattice by a ratio of $\\frac{1}{10}$:\n",
    "\n",
    "$$E_{1,1}=3.75\\text{ meV}\\cdot(\\frac{1}{0.1^2}+\\frac{1}{0.1^2})$$\n",
    "\n",
    "Thus the first forbidden energy the particle cannot propagate through is:\n",
    "\n",
    "$$E_{1,1}=750\\text{ meV}$$"
   ]
  },
  {
   "cell_type": "markdown",
   "metadata": {},
   "source": [
    "## Question 3\n",
    "\n",
    "### Part (a)\n",
    "\n",
    "$$\\chi=\\begin{bmatrix}cos(\\frac{\\theta}{2}) \\\\ e^{i\\phi}\\cdot sin(\\frac{\\theta}{2})\\end{bmatrix}$$\n",
    "\n",
    "$$\\chi=\\begin{bmatrix}cos(\\frac{120^o}{2}) \\\\ sin(\\frac{120^o}{2})\\end{bmatrix}$$\n",
    "\n",
    "$$\\chi=\\begin{bmatrix}\\frac{1}{2} \\\\ \\frac{\\sqrt{3}}{2}\\end{bmatrix}$$\n",
    "\n",
    "### Part (b)\n",
    "\n",
    "$$\\chi_{1}=S_x\\chi_0$$\n",
    "\n",
    "$$\\chi_1=\\frac{\\hbar}{2}\\begin{bmatrix}0 & 1 \\\\ 1 & 0\\end{bmatrix}\\begin{bmatrix}\\frac{1}{2} \\\\ \\frac{\\sqrt{3}}{2}\\end{bmatrix}$$\n",
    "\n",
    "$$\\chi_1=\\frac{\\hbar}{2}\\begin{bmatrix}\\frac{\\sqrt{3}}{2} \\\\ \\frac{1}{2}\\end{bmatrix}$$\n",
    "\n",
    "### Part (c)\n",
    "\n",
    "$$cos(\\frac{\\theta}{2})=\\frac{\\sqrt{3}}{2}\\text{, }sin(\\frac{\\theta}{2})=\\frac{1}{2}$$\n",
    "\n",
    "Since there is no phase offset:\n",
    "\n",
    "$$\\theta=\\frac{\\pi}{3}=60^o\\text{, and }\\phi=0^o$$\n",
    "\n"
   ]
  },
  {
   "cell_type": "markdown",
   "metadata": {},
   "source": [
    "### Question 4\n",
    "\n",
    "$$E_{n,m,o}=\\frac{\\hbar^2\\pi^2}{2m}\\cdot(\\frac{n^2}{a^2}+\\frac{m^2}{b^2}+\\frac{o^2}{c^2})$$\n",
    "\n",
    "$$E_{n,m,o}=3.75\\text{ meV}\\cdot(\\frac{n^2}{25}+\\frac{m^2}{1}+\\frac{o^2}{400})$$\n",
    "\n",
    "$$E_{n,m,o}=3.75\\text{ meV}\\cdot(\\frac{n^2}{25}+\\frac{m^2}{1}+\\frac{o^2}{400})$$\n",
    "\n",
    "Thus, the three lowest energy subbands will be $n=1, 2, 3; m=1\\text{, and }o=1$\n",
    "\n",
    "$$E_{1,1,1}=3.75\\text{ meV}\\cdot(\\frac{1^2}{25}+\\frac{1^2}{1}+\\frac{1^2}{400})=3.9094\\text{ meV}$$\n",
    "\n",
    "$$E_{2,1,1}=3.75\\text{ meV}\\cdot(\\frac{2^2}{25}+\\frac{1^2}{1}+\\frac{1^2}{400})=4.3594\\text{ meV}$$\n",
    "\n",
    "$$E_{3,1,1}=3.75\\text{ meV}\\cdot(\\frac{3^2}{25}+\\frac{1^2}{1}+\\frac{1^2}{400})=5.1094\\text{ meV}$$"
   ]
  },
  {
   "cell_type": "markdown",
   "metadata": {},
   "source": [
    "### Question 5\n",
    "\n",
    "The origin of the fock integral is the desire to account for how electrons interact with eachother. So far we've only analyzed single electrons, but two electrons in the same space have a Coulomb interaction that is far more complicated because the electrons are density functions and not singular points in space. The fock integral (one part of the Hartree-Fock approximation) is specifically intended to distinguish the interacting electrons from each other (mathematically)."
   ]
  }
 ],
 "metadata": {
  "kernelspec": {
   "display_name": "Python 3",
   "language": "python",
   "name": "python3"
  },
  "language_info": {
   "codemirror_mode": {
    "name": "ipython",
    "version": 3
   },
   "file_extension": ".py",
   "mimetype": "text/x-python",
   "name": "python",
   "nbconvert_exporter": "python",
   "pygments_lexer": "ipython3",
   "version": "3.7.7"
  }
 },
 "nbformat": 4,
 "nbformat_minor": 4
}
