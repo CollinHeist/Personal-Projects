{
 "cells": [
  {
   "cell_type": "markdown",
   "metadata": {},
   "source": [
    "# ECE 462 - Homework #5"
   ]
  },
  {
   "cell_type": "markdown",
   "metadata": {},
   "source": [
    "## Problem 4.2.1\n",
    "\n",
    "The Hamiltonian matrix can be used to directly find the eigenvalues and eigenfunctions, these are time-domain functions and therefore can be simulated accordingly."
   ]
  },
  {
   "cell_type": "markdown",
   "metadata": {},
   "source": [
    "## Problem 4.3.2\n",
    "\n",
    "$$\\sigma_y=\\begin{bmatrix}\n",
    "0 & \\frac{-i}{2} \\\\\n",
    "\\frac{i}{2} & 0 \\\\\n",
    "\\end{bmatrix}$$\n",
    "\n",
    "### Part (a)\n",
    "\n",
    "$$|\\sigma_y-\\lambda I|=det(\\begin{bmatrix}-\\lambda & \\frac{-i}{2} \\\\ \\frac{i}{2} & -\\lambda\\end{bmatrix})$$\n",
    "\n",
    "$$\\lambda_{1,2}=\\pm\\frac{1}{2}$$\n",
    "\n",
    "With these corresponding eigenvectors:\n",
    "\n",
    "$$=\\sigma_y\\cdot \\overrightarrow{\\lambda_{1,2}}=\\lambda_{1,2}\\cdot \\overrightarrow{\\lambda_{1,2}}$$\n",
    "\n",
    "$$\\overrightarrow{\\lambda_1}=\\begin{bmatrix}i \\\\ 1\\end{bmatrix}$$\n",
    "\n",
    "$$\\overrightarrow{\\lambda_2}=\\begin{bmatrix}-i \\\\ 1\\end{bmatrix}$$\n",
    "\n",
    "### Part (b)\n",
    "\n",
    "To show that the eigenfunctions are orthonormal, I'll verify the following is true:\n",
    "\n",
    "$$\\overrightarrow{\\lambda_1^+}\\cdot\\overrightarrow{\\lambda_2}=0$$\n",
    "\n",
    "$$\\begin{bmatrix}-i & 1\\end{bmatrix}\\cdot\\begin{bmatrix}-i \\\\ 1\\end{bmatrix}=-1+1=0$$\n",
    "\n",
    "Since the inner product of the eigen vectors is equal to zero, the functions are orthonormal.\n",
    "\n",
    "### Part (c)\n",
    "\n",
    "$$V\\cdot\\sigma_y=[\\overrightarrow{\\lambda_1}, \\overrightarrow{\\lambda_2}]$$\n",
    "\n",
    "$$V=\\begin{bmatrix}2 & -2 \\\\ 2i & -2i\\end{bmatrix}$$"
   ]
  },
  {
   "cell_type": "markdown",
   "metadata": {},
   "source": [
    "## Problem 4.3.3\n",
    "\n",
    "### Part (a)\n",
    "\n",
    "It can clearly be seen that the matrix's complex transposition is identical to the original matrix, therefore the matrix _is_ Hermitian.\n",
    "\n",
    "### Part (b)"
   ]
  },
  {
   "cell_type": "code",
   "execution_count": 26,
   "metadata": {},
   "outputs": [
    {
     "name": "stdout",
     "output_type": "stream",
     "text": [
      "Eigenvalues: \n",
      "[0.27+0.j 3.  +0.j 3.73+0.j]\n",
      "Eigenvectors:\n",
      "[[-0.00e+00+0.63j  7.07e-01+0.j    3.25e-01+0.j  ]\n",
      " [-0.00e+00-0.46j -9.83e-17+0.j    8.88e-01+0.j  ]\n",
      " [ 6.28e-01+0.j    0.00e+00+0.71j  0.00e+00-0.33j]]\n"
     ]
    },
    {
     "data": {
      "text/plain": [
       "array([[-7.07e-01+6.13e-01j,  7.07e-01-3.03e-01j, -2.96e-01-7.07e-01j],\n",
       "       [ 9.83e-17-1.95e+00j, -9.83e-17+1.35e+00j,  2.09e+00+9.83e-17j],\n",
       "       [ 6.13e-01-7.07e-01j, -3.03e-01+7.07e-01j,  7.07e-01+2.96e-01j]])"
      ]
     },
     "execution_count": 26,
     "metadata": {},
     "output_type": "execute_result"
    }
   ],
   "source": [
    "import numpy as np\n",
    "import pandas as pd\n",
    "A = [[2,       1, 0-1j],\n",
    "     [1,       3, 0+1j],\n",
    "     [0+1j, 0-1j,    2]]\n",
    "\n",
    "np.set_printoptions(precision=2)\n",
    "eigen_values, eigen_vectors = np.linalg.eig(A)\n",
    "print (\"Eigenvalues: \\n{}\\nEigenvectors:\\n{}\".format(eigen_values, eigen_vectors))"
   ]
  },
  {
   "cell_type": "markdown",
   "metadata": {},
   "source": [
    "### Part (c)\n",
    "\n",
    "$$VA=[\\overrightarrow{\\lambda}]\\rightarrow V=[\\overrightarrow{\\lambda}]A^{-1}$$\n",
    "\n",
    "Thus the matrix that transforms A to the eigenfunction representation is:"
   ]
  },
  {
   "cell_type": "code",
   "execution_count": 27,
   "metadata": {},
   "outputs": [
    {
     "data": {
      "text/plain": [
       "array([[-7.07e-01+6.13e-01j,  7.07e-01-3.03e-01j, -2.96e-01-7.07e-01j],\n",
       "       [ 9.83e-17-1.95e+00j, -9.83e-17+1.35e+00j,  2.09e+00+9.83e-17j],\n",
       "       [ 6.13e-01-7.07e-01j, -3.03e-01+7.07e-01j,  7.07e-01+2.96e-01j]])"
      ]
     },
     "execution_count": 27,
     "metadata": {},
     "output_type": "execute_result"
    }
   ],
   "source": [
    "eigen_vectors @ np.linalg.inv(A)"
   ]
  },
  {
   "cell_type": "markdown",
   "metadata": {},
   "source": [
    "## Problem 4.3.4\n",
    "\n",
    "$$M=\\begin{bmatrix}a_1b_1 & a_1b_2 \\\\ a_2b_1 & a_2b_2\\end{bmatrix}$$"
   ]
  }
 ],
 "metadata": {
  "kernelspec": {
   "display_name": "Python 3",
   "language": "python",
   "name": "python3"
  },
  "language_info": {
   "codemirror_mode": {
    "name": "ipython",
    "version": 3
   },
   "file_extension": ".py",
   "mimetype": "text/x-python",
   "name": "python",
   "nbconvert_exporter": "python",
   "pygments_lexer": "ipython3",
   "version": "3.7.3"
  }
 },
 "nbformat": 4,
 "nbformat_minor": 2
}
