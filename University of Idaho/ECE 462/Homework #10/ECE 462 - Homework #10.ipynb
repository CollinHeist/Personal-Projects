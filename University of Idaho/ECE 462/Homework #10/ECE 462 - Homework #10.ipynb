{
 "cells": [
  {
   "cell_type": "markdown",
   "metadata": {},
   "source": [
    "# ECE 462 - Homework #6\n"
   ]
  },
  {
   "cell_type": "markdown",
   "metadata": {},
   "source": [
    "# Problem 7.1.1\n",
    "\n",
    "## $\\chi_Y$\n",
    "$$\\chi_Y=\\frac{\\sqrt{2}}{2}\\begin{bmatrix}1 \\\\ i\\end{bmatrix}=\\frac{\\sqrt{2}}{2}\\cdot(\\chi_\\uparrow+i\\cdot\\chi_\\downarrow)$$\n",
    "\n",
    "## $\\chi_X$\n",
    "\n",
    "$$\\chi_Y=\\frac{\\sqrt{2}}{2}\\begin{bmatrix}1 \\\\ 1\\end{bmatrix}=\\frac{\\sqrt{2}}{2}\\cdot(\\chi_\\uparrow+\\chi_\\downarrow)$$"
   ]
  },
  {
   "cell_type": "markdown",
   "metadata": {},
   "source": [
    "# Problem 7.1.2\n",
    "## $\\chi\\newcommand{\\braket}[2]{\\left\\langle{#1}\\middle|{#2}\\right\\rangle}$\n",
    "\n",
    "$$\\chi=\\begin{bmatrix}cos(\\frac{\\theta}{2})\\\\ e^{i\\phi}sin(\\frac{\\theta}{2})\\end{bmatrix}=\\begin{bmatrix}cos(\\frac{45^o}{2})\\\\ e^{i\\cdot 30^o}sin(\\frac{45^o}{2})\\end{bmatrix}$$\n",
    "\n",
    "$$\\chi=\\begin{bmatrix}0.9239 \\\\0.3314+i0.1913\\end{bmatrix}$$\n",
    "\n",
    "## $\\langle{S_X}\\rangle$\n",
    "\n",
    "$$\\langle{S_X}\\rangle=\\begin{bmatrix}0.9239 \\\\0.3314+i0.1913\\end{bmatrix}^+\\cdot\\frac{\\hbar}{2}\\begin{bmatrix}0 & 1\\\\1 & 0\\end{bmatrix}\\cdot\\begin{bmatrix}0.9239 \\\\0.3314+i0.1913\\end{bmatrix}$$\n",
    "\n",
    "$$\\langle{S_X}\\rangle=0.30619\\hbar$$\n",
    "\n",
    "## $\\langle{S_Y}\\rangle$\n",
    "\n",
    "$$\\langle{S_Y}\\rangle=\\begin{bmatrix}0.9239 \\\\0.3314+i0.1913\\end{bmatrix}^+\\cdot\\frac{\\hbar}{2}\\begin{bmatrix}0 & -i\\\\i & 0\\end{bmatrix}\\cdot\\begin{bmatrix}0.9239 \\\\0.3314+i0.1913\\end{bmatrix}$$\n",
    "\n",
    "$$\\langle{S_Y}\\rangle=0.17678\\hbar$$\n",
    "\n",
    "## $\\langle{S_Z}\\rangle$\n",
    "\n",
    "$$\\langle{S_Z}\\rangle=\\begin{bmatrix}0.9239 \\\\0.3314+i0.1913\\end{bmatrix}^+\\cdot\\frac{\\hbar}{2}\\begin{bmatrix}1 & 0\\\\0 & -1\\end{bmatrix}\\cdot\\begin{bmatrix}0.9239 \\\\0.3314+i0.1913\\end{bmatrix}$$\n",
    "\n",
    "$$\\langle{S_Z}\\rangle=0.353553\\hbar$$"
   ]
  },
  {
   "cell_type": "markdown",
   "metadata": {},
   "source": [
    "# Problem 7.1.3\n",
    "\n",
    "## Part (a)\n",
    "\n",
    "$$\\chi=\\begin{bmatrix}cos(\\frac{\\theta}{2})\\\\ e^{i\\phi}sin(\\frac{\\theta}{2})\\end{bmatrix}=\\begin{bmatrix}cos(\\frac{45^o}{2})\\\\ e^{i\\cdot 90^o}sin(\\frac{45^o}{2})\\end{bmatrix}$$\n",
    "\n",
    "$$\\chi=\\begin{bmatrix}0.924 \\\\i0.383\\end{bmatrix}$$\n",
    "\n",
    "## Part (b)\n",
    "\n",
    "$$\\sigma_y\\cdot\\chi=\\begin{bmatrix}0 & -i\\\\i & 0\\end{bmatrix}\\cdot\\begin{bmatrix}0.924 \\\\i0.383\\end{bmatrix}$$\n",
    "\n",
    "$$\\sigma_y\\cdot\\chi=\\begin{bmatrix}0.383\\\\i0.924\\end{bmatrix}$$"
   ]
  },
  {
   "cell_type": "markdown",
   "metadata": {},
   "source": [
    "# Problem 7.1.5\n",
    "\n",
    "$$\\chi_0=\\begin{bmatrix}0.924\\\\0.195\\end{bmatrix}$$\n",
    "\n",
    "$$\\chi(t)=c_1\\chi_\\uparrow e^{i(\\gamma B_0/2)t}+c_2\\chi_\\downarrow e^{-i(\\gamma B_0/2)t}$$\n",
    "\n",
    "From the initial $\\chi$ vector:\n",
    "\n",
    "$$\\chi(t)=0.924\\chi_\\uparrow e^{i(\\gamma B_0/2)t}+0.195\\chi_\\downarrow e^{-i(\\gamma B_0/2)t}$$\n",
    "\n",
    "The end position of this spinor is:\n",
    "\n",
    "$$\\chi_1=\\begin{bmatrix}cos(\\frac{90^o}{2})\\\\sin(\\frac{90^o}{2})\\end{bmatrix}=\\begin{bmatrix}\\frac{\\sqrt{2}}{2}\\\\ \\frac{\\sqrt{2}}{2}\\end{bmatrix}$$"
   ]
  },
  {
   "cell_type": "markdown",
   "metadata": {},
   "source": [
    "# Problem 7.2.1\n",
    "\n",
    "For a magnetic field $B$ directed in the $z$-direction, the equation becomes:\n",
    "\n",
    "$$H_s\\chi=-\\gamma\\frac{\\hbar}{2}B_0\\sigma_z\\chi\\rightarrow H_s=-\\gamma\\frac{\\hbar}{2}B_0\\sigma_z$$\n",
    "\n",
    "As evident in the equation, there is no difference in the particle's energy between $\\chi_\\uparrow$ and $\\chi_\\downarrow$."
   ]
  }
 ],
 "metadata": {
  "kernelspec": {
   "display_name": "Python 3",
   "language": "python",
   "name": "python3"
  },
  "language_info": {
   "codemirror_mode": {
    "name": "ipython",
    "version": 3
   },
   "file_extension": ".py",
   "mimetype": "text/x-python",
   "name": "python",
   "nbconvert_exporter": "python",
   "pygments_lexer": "ipython3",
   "version": "3.7.7"
  }
 },
 "nbformat": 4,
 "nbformat_minor": 2
}
