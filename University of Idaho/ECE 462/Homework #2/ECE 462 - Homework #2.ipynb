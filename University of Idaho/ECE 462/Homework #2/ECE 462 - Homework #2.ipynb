{
 "cells": [
  {
   "cell_type": "markdown",
   "metadata": {},
   "source": [
    "# ECE 462 - Homework #1\n",
    "\n",
    "#### Collin Heist"
   ]
  },
  {
   "cell_type": "markdown",
   "metadata": {},
   "source": [
    "## Problem 2.1.1\n",
    "\n",
    "$$E_{a=100Å}=3.75meV$$\n",
    "\n",
    "$$E_{a=10Å}=\\frac{3.75}{(\\frac{1}{10})^2}=n^2\\cdot375meV$$"
   ]
  },
  {
   "cell_type": "markdown",
   "metadata": {},
   "source": [
    "## Problem 2.1.2\n",
    "\n",
    "For the purposes of this simulation, the answers would not really be different. For a particle whose energy is approximately 0.3eV, 3eV is two orders of magnitude higher - and thus practically infinite."
   ]
  },
  {
   "cell_type": "markdown",
   "metadata": {},
   "source": [
    "## Problem 2.1.4\n",
    "\n",
    "All of the energy of the particle in the well is kinetic, thus the energy is:\n",
    "\n",
    "$$KE=E|_{n=1}=375meV$$"
   ]
  },
  {
   "cell_type": "markdown",
   "metadata": {},
   "source": [
    "## Problem 2.1.5\n",
    "\n",
    "The solution for $A$ in Equation 2.8 is:\n",
    "\n",
    "$$A=\\pm\\sqrt{\\frac{2}{a}}\\text{, or }\\pm i\\sqrt{\\frac{2}{a}}$$"
   ]
  },
  {
   "cell_type": "markdown",
   "metadata": {},
   "source": [
    "## Problem 2.2.2\n",
    "\n",
    "$$\\psi_n(x)=\\sum_{n=1}^{N}\\varepsilon_n\\cdot\\phi_n$$"
   ]
  }
 ],
 "metadata": {
  "kernelspec": {
   "display_name": "Python 3",
   "language": "python",
   "name": "python3"
  },
  "language_info": {
   "codemirror_mode": {
    "name": "ipython",
    "version": 3
   },
   "file_extension": ".py",
   "mimetype": "text/x-python",
   "name": "python",
   "nbconvert_exporter": "python",
   "pygments_lexer": "ipython3",
   "version": "3.7.3"
  }
 },
 "nbformat": 4,
 "nbformat_minor": 2
}
