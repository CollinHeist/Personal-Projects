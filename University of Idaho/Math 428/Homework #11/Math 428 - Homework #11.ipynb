{
 "cells": [
  {
   "cell_type": "markdown",
   "metadata": {},
   "source": [
    "# Math 428 - Homework for 04/03/19"
   ]
  },
  {
   "cell_type": "markdown",
   "metadata": {},
   "source": [
    "## Problem 23.29, Part (a)\n",
    "$$M=\\int_{t_1}^{t_2} (9+4cos^2(0.4t))(5e^{-0.5t}+2e^{0.15t})dt$$\n",
    "\n",
    "Determine the mass transported if $t_1=2$, $t_2=8$; using Romberg Integration with 0.1% tolerance."
   ]
  },
  {
   "cell_type": "code",
   "execution_count": 1,
   "metadata": {},
   "outputs": [],
   "source": [
    "import numpy as np\n",
    "from pandas import *"
   ]
  },
  {
   "cell_type": "code",
   "execution_count": 2,
   "metadata": {},
   "outputs": [],
   "source": [
    "# Compute the trapezoidal approximation of the function w/ provided subdivisions\n",
    "def trapezoid_rule(f_x, x_start, x_end, num_divs):\n",
    "    integral = f_x(x_start) + f_x(x_end)\n",
    "    dx = (x_end - x_start) / num_divs\n",
    "    for i in np.arange(1, num_divs):\n",
    "        x_val = x_start + i * dx\n",
    "        integral += 2 * f_x(x_val)\n",
    "        \n",
    "    return (integral * (x_end - x_start) / (2 * num_divs))\n",
    "\n",
    "# Evaluates the integral of f(x) [x_start -> x_end] n times\n",
    "# Doubles the number of trapezoidal segements used on each iteration\n",
    "def integral_approx(f_x, x_start, x_end, num_levels):\n",
    "    approx = []\n",
    "    for i in range(num_levels):\n",
    "        approx.append(trapezoid_rule(f_x, x_start, x_end, 2 ** i))\n",
    "        \n",
    "    return approx\n",
    "\n",
    "# The Romberg Integration Approximation Algorithm\n",
    "def romberg_integration(f_x, x_start, x_end, max_iters=10, actual_int=None, tol=None):\n",
    "    # Grab the initial guesses from the trapezoidal approximation\n",
    "    I = integral_approx(f_x, x_start, x_end, max_iters)\n",
    "    # Convert the initial guesses into a properly sized square matrix\n",
    "    I = np.append(I, np.zeros(max_iters*(max_iters-1))).reshape((max_iters, max_iters)).transpose()\n",
    "    \n",
    "    for i in range(1, max_iters):\n",
    "        p4 = 1\n",
    "        for j in range(1, i + 1):\n",
    "            p4 *= 4\n",
    "            I[i, j] = I[i, j-1] + (I[i, j-1] - I[i-1, j-1]) / (p4 - 1)\n",
    "        if tol:\n",
    "            if min(abs(I[:, j] - actual_int) / abs(actual_int)) < tol:\n",
    "                # Roll the array up to the top\n",
    "                I = np.array([np.roll(r, -c) for c, r in enumerate(I.transpose())]).transpose()\n",
    "                return I[:i+1, :j+1]\n",
    "            \n",
    "    # Return the rolled array so the top right is the fixed value\n",
    "    return np.array([np.roll(r, -c) for c, r in enumerate(I.transpose())]).transpose()"
   ]
  },
  {
   "cell_type": "code",
   "execution_count": 3,
   "metadata": {},
   "outputs": [
    {
     "name": "stdout",
     "output_type": "stream",
     "text": [
      "Result from 0.1% tolerance:\n",
      "             0           1           2\n",
      "0  411.260952  317.155295  322.595716\n",
      "1  340.681709  322.255690    0.000000\n",
      "2  326.862195    0.000000    0.000000\n",
      "\n",
      "Result with only an iteration-only stopping criteria of 6:\n",
      "             0           1           2           3           4           5\n",
      "0  411.260952  317.155295  322.595716  322.345708  322.348374  322.348367\n",
      "1  340.681709  322.255690  322.349614  322.348364  322.348367    0.000000\n",
      "2  326.862195  322.343744  322.348383  322.348367    0.000000    0.000000\n",
      "3  323.473357  322.348093  322.348367    0.000000    0.000000    0.000000\n",
      "4  322.629409  322.348350    0.000000    0.000000    0.000000    0.000000\n",
      "5  322.418615    0.000000    0.000000    0.000000    0.000000    0.000000\n"
     ]
    }
   ],
   "source": [
    "def f_x(x):\n",
    "    return ((9 + 4*np.cos(0.4*x)**2) * (5*np.exp(-0.5*x) + 2*np.exp(0.15*x)))\n",
    "\n",
    "a = romberg_integration(f_x, 2, 8, max_iters=10, actual_int=322.348, tol=0.001)\n",
    "print (\"Result from 0.1% tolerance:\\n\", DataFrame(a))\n",
    "b = romberg_integration(f_x, 2, 8, max_iters=6)\n",
    "print (\"\\nResult with only an iteration-only stopping criteria of 6:\\n\", DataFrame(b))"
   ]
  },
  {
   "cell_type": "markdown",
   "metadata": {},
   "source": [
    "Thus, the best guess of the mass transported during this time, found using the Romberg Integration with a stopping tolerance of $0.1\\%$, is $322.5957162204574$ mg. If the tolerance value was to be ignored, and the algorithm was allowed to compute more iterations than just the three necessary to reach $0.1\\%$ tolerance, then a more accurate answer could be computed. As shown above with 6 iterations"
   ]
  }
 ],
 "metadata": {
  "kernelspec": {
   "display_name": "Python 3",
   "language": "python",
   "name": "python3"
  },
  "language_info": {
   "codemirror_mode": {
    "name": "ipython",
    "version": 3
   },
   "file_extension": ".py",
   "mimetype": "text/x-python",
   "name": "python",
   "nbconvert_exporter": "python",
   "pygments_lexer": "ipython3",
   "version": "3.7.0"
  }
 },
 "nbformat": 4,
 "nbformat_minor": 2
}
