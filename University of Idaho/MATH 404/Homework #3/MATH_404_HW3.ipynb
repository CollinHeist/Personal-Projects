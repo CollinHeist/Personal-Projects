{
 "cells": [
  {
   "cell_type": "markdown",
   "metadata": {},
   "source": [
    "Use the code below to load the two accompanying files.\n",
    "\n",
    "coordinate_data.pickle contains the coordinates of 4 points in 3D space (coord_X), and the volume of the solid formed by using those 4 points as vertices (coord_y).\n",
    "NOTE: coord_X has already been centered about the origin, and then reshaped into (N, 12) so it is ready to use in the \"k hidden layers\" class.\n",
    "\n",
    "distance_data.pickle contains the 6 pairwise distances of 4 points in 3D space (dist_X), and the volume of the solid formed by using those 4 points as vertices (dist_y)."
   ]
  },
  {
   "cell_type": "code",
   "execution_count": 123,
   "metadata": {},
   "outputs": [],
   "source": [
    "import pickle\n",
    "def pickle_load(filename):\n",
    "    with open(filename, 'rb') as f:\n",
    "        contents = pickle.load(f)\n",
    "        return contents\n",
    "    return contents\n",
    "\n",
    "# the network will throw errors without the reshaping of y\n",
    "coord_X, coord_y = pickle_load('coordinate_data.pickle')\n",
    "coord_y = np.reshape(coord_y, (-1, 1))\n",
    "dist_X, dist_y = pickle_load('distance_data.pickle')\n",
    "dist_y = np.reshape(dist_y, (-1, 1))"
   ]
  },
  {
   "cell_type": "markdown",
   "metadata": {},
   "source": [
    "Instructions:\n",
    "\n",
    "As always, rename this file to include your first and last name before submitting.\n",
    "\n",
    "Split up the data into a training set and validation set (use 1% of the data for validation)\n",
    "\n",
    "Use the k_hidden_layer class that Frank posted to train two neural networks: one that can predict the volume of the solid based on the coordinate data, and another that can predict the volume based on the pairwise distances.\n",
    "\n",
    "The current setup of k_hidden_layer is using the crossentropy loss function, which works well for classification (like on MNIST), but does not make sense for for a regression problem like this one (you should make sure you understand why this is by looking at how crossentropy is formulated).  You will need to rewrite that part of the code to implement the mean squared error (MSE) loss function defined below.  There are three parts you need to edit: the gradient calculation, the loss, and you need to print the loss instead of accuracy.\n",
    "\n",
    "$$ \\text{MSE Loss:} L = \\frac{1}{n} \\sum_{i=1}^{n} (y_{i, pred} - y_{i, true})^2 \\hspace{1 cm} \\text{(where n is the batch size)}$$\n",
    "\n",
    "NOTE: To get the training to work well you will need to also look at the distribution of y (see the code below).  One of the most important data preprocessing steps is making sure your labels are spread out evenly (Why?).  The ideal is a uniform distribution, but a normal distribution is often good enough.  To get y to have a (roughly) uniform distribution you can use a one-to-one function like log, or nth root on y for training (or a combination of one-to-one functions), then apply the inverse of the function on your predictions when you want to make a prediction.  Print out the histogram of your transformed data using the code below (you should be able to get it to look like a normal distribution without too much work).\n",
    "\n",
    "Make sure to play around with the structure of your network (the number of hidden layers, and number of nodes in each layer), and the learning rate.  Try to get the validation loss to decrease steadily.\n",
    "\n",
    "Answer the following questions (either in Markdown, or in commented code): Which type of data was better for predicting the volume? Would you expect that data type to be better? Why or why not?\n",
    "\n",
    "I have copied the working k_hidden_layer class to this notebook below.\n",
    "\n",
    "Please send any questions to dfurman@uidaho.edu, or use office hours for help."
   ]
  },
  {
   "cell_type": "code",
   "execution_count": 124,
   "metadata": {},
   "outputs": [
    {
     "data": {
      "image/png": "[encoded data removed]",
      "text/plain": [
       "<Figure size 432x288 with 1 Axes>"
      ]
     },
     "metadata": {
      "needs_background": "light"
     },
     "output_type": "display_data"
    }
   ],
   "source": [
    "import matplotlib.pyplot as plt\n",
    "import numpy as np\n",
    "%matplotlib inline\n",
    "plt.hist(coord_y, bins=20)\n",
    "plt.show()"
   ]
  },
  {
   "cell_type": "code",
   "execution_count": null,
   "metadata": {},
   "outputs": [],
   "source": [
    "class k_hidden_layer(object):\n",
    "    def __init__(self, sizes):\n",
    "        self.num_layers = len(sizes)\n",
    "        self.Bs = [np.zeros((1,size)) for size in sizes[1:]]\n",
    "        self.Ws = [np.random.randn(m,n)/np.sqrt(m)\n",
    "                   for m,n in zip(sizes[:-1], sizes[1:])]\n",
    "\n",
    "    def loss(self, X, y=None, reg=0.0):\n",
    "        Out = np.dot(X,self.Ws[0])+self.Bs[0]\n",
    "        Outs=[Out]\n",
    "        for W, B in zip(self.Ws[1:], self.Bs[1:]):\n",
    "            Out = np.dot(np.maximum(0,Out), W)+B\n",
    "            Outs.append(Out)\n",
    "        if y is None:\n",
    "            return Outs\n",
    "        \n",
    "        P=np.zeros_like(Out)\n",
    "        N=X.shape[0]\n",
    "        P[range(N),y]=1       \n",
    "        M=np.max(Out,axis=1,keepdims=True)\n",
    "        Q = np.exp(Out-M)/np.sum(np.exp(Out-M), axis=1,keepdims=True)\n",
    "        L = -np.mean(np.log(Q[range(N),y]+1e-300)) # Add eps to avoid overflow\n",
    "        for W in self.Ws:\n",
    "            L += reg*np.sum(W**2)\n",
    "            \n",
    "        dWs = [np.zeros_like(W) for W in self.Ws]\n",
    "        dBs = [np.zeros_like(B) for B in self.Bs]\n",
    "        dOuts = [np.zeros_like(Out) for Out in Outs]\n",
    "        dOuts[-1] = (Q-P)/N\n",
    "        for i in range(2,self.num_layers):\n",
    "            dOuts[-i] = (Outs[-i]>0)*np.dot(dOuts[-i+1],self.Ws[-i+1].T)\n",
    "        dBs[0] = np.sum(dOuts[0], axis=0, keepdims=True)\n",
    "        dWs[0] = np.dot(X.T,dOuts[0])+2*reg*self.Ws[0]\n",
    "        for layer in range(1,self.num_layers-1):    \n",
    "            dBs[layer] = np.sum(dOuts[layer], axis=0, keepdims=True)\n",
    "            dWs[layer] = np.dot(np.maximum(0,Outs[layer-1]).T,dOuts[layer])\n",
    "            dWs[layer] += 2*reg*self.Ws[layer]\n",
    "        return L, dBs, dWs\n",
    "    \n",
    "    def train(self, X_train, y_train, X_val=None, y_val=None,\n",
    "              learning_rate=1e-3, learning_rate_decay=0.99,\n",
    "              reg=5e-3, epochs=5, batch_size=60, verbose=False):\n",
    "        loss_history = []\n",
    "        train_acc_history = []\n",
    "        val_acc_history = []\n",
    "        N = X_train.shape[0]\n",
    "        iteration=0\n",
    "        for epoch in range(epochs):\n",
    "            perm=np.arange(N)\n",
    "            np.random.shuffle(perm)\n",
    "            X_batches = [X_train[perm[k:k+batch_size]] \n",
    "                         for k in range(0, N, batch_size)]\n",
    "            y_batches = [y_train[perm[k:k+batch_size]] \n",
    "                         for k in range(0, N, batch_size)]\n",
    "            for X,y in zip(X_batches, y_batches):\n",
    "                L, dBs, dWs = self.loss(X, y ,reg)\n",
    "                self.Ws = [W - learning_rate*dW for W,dW in zip(self.Ws, dWs)]\n",
    "                self.Bs = [B - learning_rate*dB for B,dB in zip(self.Bs, dBs)]\n",
    "                \n",
    "                if iteration % 100 == 0:  \n",
    "                    loss_history.append(L)   \n",
    "                    y_pred = self.predict(X)\n",
    "                    train_acc = np.mean(y_pred==y) \n",
    "                    train_acc_history.append(train_acc)                               \n",
    "                    if X_val is not None:\n",
    "                        y_val_pred = self.predict(X_val)\n",
    "                        val_acc = np.mean(y_val_pred==y_val) \n",
    "                        val_acc_history.append(val_acc)\n",
    "                    if verbose:\n",
    "                        if X_val is not None:\n",
    "                            print('iteration %d: loss %f, train_acc: %f, val_acc: %f' \n",
    "                                  % (iteration, L, train_acc, val_acc))\n",
    "                        else:\n",
    "                            print('iteration %d: loss %f, train_acc: %f' \n",
    "                                  % (iteration, L, train_acc))\n",
    "                iteration+=1\n",
    "            if X_val is not None:\n",
    "                print('Epoch ', epoch+1, 'validation accuracy: ', val_acc)\n",
    "            else:\n",
    "                print('Epoch ', epoch+1, 'completed.')\n",
    "            learning_rate*=learning_rate_decay\n",
    "         \n",
    "        return {'loss_history': loss_history,\n",
    "                'train_acc_history': train_acc_history,\n",
    "                'val_acc_history': val_acc_history}\n",
    "               \n",
    "    def predict(self, X):\n",
    "        y_pred=np.argmax(self.loss(X)[-1],axis=1)\n",
    "        return y_pred"
   ]
  },
  {
   "cell_type": "code",
   "execution_count": null,
   "metadata": {},
   "outputs": [],
   "source": []
  }
 ],
 "metadata": {
  "kernelspec": {
   "display_name": "Python 3",
   "language": "python",
   "name": "python3"
  },
  "language_info": {
   "codemirror_mode": {
    "name": "ipython",
    "version": 3
   },
   "file_extension": ".py",
   "mimetype": "text/x-python",
   "name": "python",
   "nbconvert_exporter": "python",
   "pygments_lexer": "ipython3",
   "version": "3.7.3"
  }
 },
 "nbformat": 4,
 "nbformat_minor": 2
}
