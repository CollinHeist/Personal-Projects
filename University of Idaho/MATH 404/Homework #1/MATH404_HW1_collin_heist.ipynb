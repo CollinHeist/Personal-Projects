{
 "cells": [
  {
   "cell_type": "markdown",
   "metadata": {},
   "source": [
    "First: rename this file to MATH404_HW1_your_first_and_last_name\n",
    "\n",
    "Use Numpy to write a function $f_{W, b}: {\\rm I\\!R}^n \\rightarrow {\\rm I\\!R}^m$ defined by if:\n",
    "\n",
    "$$\n",
    "W = \n",
    "\\begin{bmatrix}\n",
    "    w_{11} & w_{12} & w_{13} & \\dots  & w_{1n} \\\\\n",
    "    w_{21} & w_{22} & w_{23} & \\dots  & w_{2n} \\\\\n",
    "    \\vdots & \\vdots & \\vdots & \\ddots & \\vdots \\\\\n",
    "    w_{m1} & w_{m2} & w_{m3} & \\dots  & w_{mn}\n",
    "\\end{bmatrix}\n",
    "$$\n",
    "\n",
    "$$b = [b_1, b_2, \\dots, b_m]$$\n",
    "\n",
    "$$x = [x_1, x_2, \\dots, x_n]$$\n",
    "\n",
    "then $f_{W, b}(x) = y = [y_1, y_2, \\dots, y_m]$, where $y_i = b_i + \\sum_{j=1}^{n} w_{ij}x_j $ for $ 1 \\le i \\le m$\n",
    "\n",
    "Do not use any 'for' loops.  Numpy has great prebuilt linear algebra functions to do this calculation quickly.\n",
    "\n",
    "The function should work for any $m, n \\ge 1$.\n",
    "\n",
    "Suggested: use a simple example that can easily be calculated by hand to verify that your function works as desired."
   ]
  },
  {
   "cell_type": "code",
   "execution_count": 1,
   "metadata": {},
   "outputs": [],
   "source": [
    "import numpy as np\n",
    "\n",
    "def f(W, b, x):\n",
    "    return b + (W @ x)"
   ]
  },
  {
   "cell_type": "markdown",
   "metadata": {},
   "source": [
    "Let $W = [W_1, W_2, \\dots, W_p]$, and $b = [b_1, b_2, \\dots, b_p]$ where:\n",
    "\n",
    "$$\n",
    "W_k = \n",
    "\\begin{bmatrix}\n",
    "    w_{k11} & w_{k12} & w_{k13} & \\dots  & w_{k1m_{k-1}} \\\\\n",
    "    w_{k21} & w_{k22} & w_{k23} & \\dots  & w_{k2m_{k-1}} \\\\\n",
    "    \\vdots & \\vdots & \\vdots & \\ddots & \\vdots \\\\\n",
    "    w_{km_k1} & w_{km_k2} & w_{km_k3} & \\dots  & w_{km_km_{k-1}}\n",
    "\\end{bmatrix}\n",
    "$$\n",
    "\n",
    "$$b_k = [b_{k1}, b_{k2}, \\dots, b_{km_k}]$$\n",
    "\n",
    "for $1 \\le k \\le p$.  Given\n",
    "\n",
    "$$x = [x_1, x_2, \\dots, x_{m_0}]$$\n",
    "\n",
    "Write a function $g: {\\rm I\\!R}^{m_0} \\rightarrow {\\rm I\\!R}^{m_p}$ defined by $g(x) = y_p$, where $y_k$ is recursively defined by $y_1 = f_{W_1, b_1}(x)$, and $y_k = f_{W_k, b_k}(y_{k-1})$ for $k \\ge 2$.  Where $f$ is the function defined above.\n",
    "\n",
    "Feel free to use 'for' loops here.\n",
    "\n",
    "The function should work for any $p \\ge 1$."
   ]
  },
  {
   "cell_type": "code",
   "execution_count": 8,
   "metadata": {},
   "outputs": [],
   "source": [
    "def g(W, b, x):\n",
    "    y = [f(W[0], b[0], x)]\n",
    "    for sub_w, sub_b in zip(W[1:], b[1:]):\n",
    "        y.append(f(sub_w, sub_b, y[-1]))\n",
    "    \n",
    "    return np.array(y).reshape((2, len(y)))"
   ]
  },
  {
   "cell_type": "code",
   "execution_count": 9,
   "metadata": {},
   "outputs": [
    {
     "ename": "ValueError",
     "evalue": "cannot reshape array of size 3 into shape (2,3)",
     "output_type": "error",
     "traceback": [
      "\u001b[0;31m---------------------------------------------------------------------------\u001b[0m",
      "\u001b[0;31mValueError\u001b[0m                                Traceback (most recent call last)",
      "\u001b[0;32m<ipython-input-9-bbeb6c445a2e>\u001b[0m in \u001b[0;36m<module>\u001b[0;34m\u001b[0m\n\u001b[1;32m      3\u001b[0m \u001b[0mx\u001b[0m \u001b[0;34m=\u001b[0m \u001b[0mnp\u001b[0m\u001b[0;34m.\u001b[0m\u001b[0mrandom\u001b[0m\u001b[0;34m.\u001b[0m\u001b[0mrandn\u001b[0m\u001b[0;34m(\u001b[0m\u001b[0;36m4\u001b[0m\u001b[0;34m)\u001b[0m\u001b[0;34m\u001b[0m\u001b[0;34m\u001b[0m\u001b[0m\n\u001b[1;32m      4\u001b[0m \u001b[0;34m\u001b[0m\u001b[0m\n\u001b[0;32m----> 5\u001b[0;31m \u001b[0myp\u001b[0m \u001b[0;34m=\u001b[0m \u001b[0mg\u001b[0m\u001b[0;34m(\u001b[0m\u001b[0mW\u001b[0m\u001b[0;34m,\u001b[0m \u001b[0mb\u001b[0m\u001b[0;34m,\u001b[0m \u001b[0mx\u001b[0m\u001b[0;34m)\u001b[0m\u001b[0;34m\u001b[0m\u001b[0;34m\u001b[0m\u001b[0m\n\u001b[0m\u001b[1;32m      6\u001b[0m \u001b[0mprint\u001b[0m \u001b[0;34m(\u001b[0m\u001b[0myp\u001b[0m\u001b[0;34m)\u001b[0m\u001b[0;34m\u001b[0m\u001b[0;34m\u001b[0m\u001b[0m\n",
      "\u001b[0;32m<ipython-input-8-f3075cb21b50>\u001b[0m in \u001b[0;36mg\u001b[0;34m(W, b, x)\u001b[0m\n\u001b[1;32m      4\u001b[0m         \u001b[0my\u001b[0m\u001b[0;34m.\u001b[0m\u001b[0mappend\u001b[0m\u001b[0;34m(\u001b[0m\u001b[0mf\u001b[0m\u001b[0;34m(\u001b[0m\u001b[0msub_w\u001b[0m\u001b[0;34m,\u001b[0m \u001b[0msub_b\u001b[0m\u001b[0;34m,\u001b[0m \u001b[0my\u001b[0m\u001b[0;34m[\u001b[0m\u001b[0;34m-\u001b[0m\u001b[0;36m1\u001b[0m\u001b[0;34m]\u001b[0m\u001b[0;34m)\u001b[0m\u001b[0;34m)\u001b[0m\u001b[0;34m\u001b[0m\u001b[0;34m\u001b[0m\u001b[0m\n\u001b[1;32m      5\u001b[0m \u001b[0;34m\u001b[0m\u001b[0m\n\u001b[0;32m----> 6\u001b[0;31m     \u001b[0;32mreturn\u001b[0m \u001b[0mnp\u001b[0m\u001b[0;34m.\u001b[0m\u001b[0marray\u001b[0m\u001b[0;34m(\u001b[0m\u001b[0my\u001b[0m\u001b[0;34m)\u001b[0m\u001b[0;34m.\u001b[0m\u001b[0mreshape\u001b[0m\u001b[0;34m(\u001b[0m\u001b[0;34m(\u001b[0m\u001b[0;36m2\u001b[0m\u001b[0;34m,\u001b[0m \u001b[0mlen\u001b[0m\u001b[0;34m(\u001b[0m\u001b[0my\u001b[0m\u001b[0;34m)\u001b[0m\u001b[0;34m)\u001b[0m\u001b[0;34m)\u001b[0m\u001b[0;34m\u001b[0m\u001b[0;34m\u001b[0m\u001b[0m\n\u001b[0m",
      "\u001b[0;31mValueError\u001b[0m: cannot reshape array of size 3 into shape (2,3)"
     ]
    }
   ],
   "source": [
    "W = [np.random.randn(3, 4), np.random.randn(8, 3), np.random.randn(2, 8)]\n",
    "b = [np.random.randn(3), np.random.randn(8), np.random.randn(2)]\n",
    "x = np.random.randn(4)\n",
    "\n",
    "yp = g(W, b, x)\n",
    "print (yp)"
   ]
  },
  {
   "cell_type": "code",
   "execution_count": null,
   "metadata": {},
   "outputs": [],
   "source": []
  }
 ],
 "metadata": {
  "kernelspec": {
   "display_name": "Python 3",
   "language": "python",
   "name": "python3"
  },
  "language_info": {
   "codemirror_mode": {
    "name": "ipython",
    "version": 3
   },
   "file_extension": ".py",
   "mimetype": "text/x-python",
   "name": "python",
   "nbconvert_exporter": "python",
   "pygments_lexer": "ipython3",
   "version": "3.7.3"
  }
 },
 "nbformat": 4,
 "nbformat_minor": 2
}
