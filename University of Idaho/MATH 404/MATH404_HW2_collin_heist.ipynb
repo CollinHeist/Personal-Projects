{
 "cells": [
  {
   "cell_type": "markdown",
   "metadata": {},
   "source": [
    "Rename this file to MATH404_HW1_your_first_and_last_name before submitting"
   ]
  },
  {
   "cell_type": "markdown",
   "metadata": {},
   "source": [
    "Instructions: \n",
    "\n",
    "1. Write the function $$f((x_1, x_2)) = sin(\\sqrt{x_1^2 + x_2^2}) + 1.001*\\sqrt{x_1^2 + x_2^2}$$ in python. \n",
    "\n",
    "2. Write $\\nabla f((x_1, x_2))$ in python.\n",
    "\n",
    "3. Write a function called SGD which implements Stochastic Gradient Descent as described in class (you can look this algorithm up online, but write your own code).  The inputs to this function must at least include f, gradient of f, initial starting position $\\vec{x}_0$, number of iterations, and learning rate.  Output the final coordinates $\\vec{x}_n$, and the final value of the function $f(\\vec{x}_n)$.\n",
    "\n",
    "4. Play around with the learning rate to get small errors (you should be able to get $f(\\vec{x}_n)$ under 0.2 with most random initial starting positions about (0, 0) in $n=10000$ iterations with an appropriate learning rate).  You can use the function avg_error I have written below, or build your own function to demonstrate your results.\n",
    "\n",
    "## $f(x_1, x_2)$"
   ]
  },
  {
   "cell_type": "code",
   "execution_count": 3,
   "metadata": {},
   "outputs": [],
   "source": [
    "f = lambda x: np.sin((x[0] ** 2 + x[1] ** 2) ** (1 / 2)) + 1.001 * (x[0] ** 2 + x[1] ** 2) ** (1 / 2)"
   ]
  },
  {
   "cell_type": "markdown",
   "metadata": {},
   "source": [
    "## $\\nabla f(x_1, x_2)$"
   ]
  },
  {
   "cell_type": "code",
   "execution_count": 5,
   "metadata": {},
   "outputs": [],
   "source": [
    "def gradient_f(x):\n",
    "    d_dx1 = x[0] * (np.cos(np.sqrt(x[0] * x[0] + x[1] * x[1])) + 1.001) / np.sqrt(x[0] * x[0] + x[1] * x[1])\n",
    "    d_dx2 = x[1] * (np.cos(np.sqrt(x[0] * x[0] + x[1] * x[1])) + 1.001) / np.sqrt(x[0] * x[0] + x[1] * x[1])\n",
    "    \n",
    "    return np.array([d_dx1, d_dx2])"
   ]
  },
  {
   "cell_type": "markdown",
   "metadata": {},
   "source": [
    "## SGD"
   ]
  },
  {
   "cell_type": "code",
   "execution_count": 8,
   "metadata": {},
   "outputs": [],
   "source": [
    "def sgd(f, gradient_f, start_vector, num_iterations=10000, learning_rate=1e-4):\n",
    "    for _ in range(num_iterations):\n",
    "        gradient = gradient_f(start_vector)\n",
    "        step_size = gradient * learning_rate\n",
    "        start_vector = start_vector - step_size\n",
    "        \n",
    "    return start_vector, f(start_vector)"
   ]
  },
  {
   "cell_type": "code",
   "execution_count": 15,
   "metadata": {},
   "outputs": [],
   "source": [
    "def avg_error(*args, **kwargs):\n",
    "    np.random.seed(1)\n",
    "    total = 0.\n",
    "    for k in range(100):\n",
    "        x_0 = np.random.randn(2)*5.\n",
    "        total += sgd(*args, x_0, num_iterations=10000, **kwargs)[1]\n",
    "    return total/100"
   ]
  },
  {
   "cell_type": "code",
   "execution_count": 16,
   "metadata": {},
   "outputs": [
    {
     "name": "stderr",
     "output_type": "stream",
     "text": [
      "/usr/local/lib/python3.7/site-packages/ipykernel_launcher.py:2: RuntimeWarning: invalid value encountered in double_scalars\n",
      "  \n",
      "/usr/local/lib/python3.7/site-packages/ipykernel_launcher.py:3: RuntimeWarning: invalid value encountered in double_scalars\n",
      "  This is separate from the ipykernel package so we can avoid doing imports until\n"
     ]
    },
    {
     "data": {
      "text/plain": [
       "nan"
      ]
     },
     "execution_count": 16,
     "metadata": {},
     "output_type": "execute_result"
    }
   ],
   "source": [
    "learning_rate = 0.02\n",
    "avg_error(f, gradient_f, learning_rate=learning_rate)"
   ]
  },
  {
   "cell_type": "code",
   "execution_count": null,
   "metadata": {},
   "outputs": [],
   "source": []
  }
 ],
 "metadata": {
  "kernelspec": {
   "display_name": "Python 3",
   "language": "python",
   "name": "python3"
  },
  "language_info": {
   "codemirror_mode": {
    "name": "ipython",
    "version": 3
   },
   "file_extension": ".py",
   "mimetype": "text/x-python",
   "name": "python",
   "nbconvert_exporter": "python",
   "pygments_lexer": "ipython3",
   "version": "3.7.3"
  }
 },
 "nbformat": 4,
 "nbformat_minor": 2
}
