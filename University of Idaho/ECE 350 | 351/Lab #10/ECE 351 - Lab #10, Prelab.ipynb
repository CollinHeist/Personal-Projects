{
 "cells": [
  {
   "cell_type": "markdown",
   "metadata": {},
   "source": [
    "# ECE 351 - Lab #10, Prelab\n",
    "## Frequency Response"
   ]
  },
  {
   "cell_type": "markdown",
   "metadata": {},
   "source": [
    "$$H(s)=\\frac{\\frac{1}{RC}s}{s^2+\\frac{1}{RC}s+\\frac{1}{LC}}$$\n",
    "\n",
    "$$H(jw)=\\frac{\\frac{1}{RC}jw}{(jw)^2+\\frac{1}{RC}jw+\\frac{1}{LC}}$$\n",
    "\n",
    "$$H(jw)=\\frac{j\\frac{w}{RC}}{(\\frac{1}{LC}-w^2)+j(\\frac{w}{RC})}$$\n",
    "\n",
    "$$|H(jw)|=\\sqrt{Re\\{H(jw)\\}^2+Im\\{H(jw)\\}^2}$$\n",
    "\n",
    "$$|H(jw)|=\\frac{\\frac{w}{RC}}{\\sqrt{(\\frac{1}{LC}-w^2)^2+(\\frac{w}{RC})^2}}$$\n",
    "\n",
    "$$\\phi(w)=tan^{-1}(\\frac{Im\\{H(jw)\\}}{Re\\{H(jw)\\}})$$\n",
    "\n",
    "$$\\phi(w)=tan^{-1}(\\frac{\\frac{w}{RC}}{\\frac{1}{LC}-w^2})$$\n",
    "\n",
    "Now to plug in the values of R, L and C...\n",
    "\n",
    "$$|H(jw)|=\\frac{\\frac{w}{1000\\cdot 10^{-12}}}{\\sqrt{(\\frac{1}{27\\cdot 10^{-3}\\cdot 10^{-12}}-w^2)^2+(\\frac{w}{1000\\cdot 10^{-12}})^2}}$$\n",
    "\n",
    "$$\\phi(w)=tan^{-1}(\\frac{\\frac{w}{1000\\cdot 10^{-12}}}{\\frac{1}{27\\cdot 10^{-3}\\cdot 10^{-12}}-w^2})$$"
   ]
  }
 ],
 "metadata": {
  "kernelspec": {
   "display_name": "Python 3",
   "language": "python",
   "name": "python3"
  },
  "language_info": {
   "codemirror_mode": {
    "name": "ipython",
    "version": 3
   },
   "file_extension": ".py",
   "mimetype": "text/x-python",
   "name": "python",
   "nbconvert_exporter": "python",
   "pygments_lexer": "ipython3",
   "version": "3.7.0"
  }
 },
 "nbformat": 4,
 "nbformat_minor": 2
}
