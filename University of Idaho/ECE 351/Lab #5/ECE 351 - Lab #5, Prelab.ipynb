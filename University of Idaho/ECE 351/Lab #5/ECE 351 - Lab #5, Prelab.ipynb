{
 "cells": [
  {
   "cell_type": "markdown",
   "metadata": {},
   "source": [
    "# ECE 351 - Lab #5, Prelab\n",
    "#### Step and Impulse Response of RLC Bandpass Filter"
   ]
  },
  {
   "cell_type": "markdown",
   "metadata": {},
   "source": [
    "## Nodal Equation\n",
    "### Question 1\n",
    "$$\\frac{V_{in}(s)-V_{out}(s)}{R}=\\frac{V_{out}(s)}{sL}+sC\\cdot V_{out}(s)$$\n",
    "After solving for $V_{out}$...\n",
    "$$V_{out}(s)=\\frac{sL\\cdot V_{in}(s)}{R(CLs^2+1)+Ls}$$\n",
    "Thus, the transfer equation $\\frac{V_{out}(s)}{V_{in}(s)}$ is:\n",
    "$$\\frac{V_{out}(s)}{V_{in}(s)}=\\frac{sL}{R(CLs^2+1)+Ls}$$\n",
    "$$\\frac{V_{out}(s)}{V_{in}(s)}=\\frac{27\\cdot 10^{-3}s}{1,000(100\\cdot 10^{-9}\\cdot 27\\cdot 10^{-3}s^2+1)+27\\cdot 10^{-3}s}$$\n",
    "\n",
    "$$\\frac{V_{out}(s)}{V_{in}(s)}=\\frac{10,000s}{s^2+10,000s+3.7078\\cdot10^8}$$\n",
    "### Question 2\n",
    "$$H(s)=\\frac{V_{out}(s)}{V_{in}(s)}\\cdot \\delta(s)$$\n",
    "$$\\delta(s)=1$$\n",
    "Thus,\n",
    "$$H(s)=\\frac{10,000s}{s^2+10,000s+3.7078\\cdot10^8}$$\n",
    "Using the inverse laplace transformation,\n",
    "$$h(t)=(10,000e^{-5,000t}cos(18,584.1t)-2,690.47e^{-5,000t}sin(18,584.1t))\\cdot u(t)$$"
   ]
  },
  {
   "cell_type": "code",
   "execution_count": null,
   "metadata": {},
   "outputs": [],
   "source": []
  }
 ],
 "metadata": {
  "kernelspec": {
   "display_name": "Python 3",
   "language": "python",
   "name": "python3"
  },
  "language_info": {
   "codemirror_mode": {
    "name": "ipython",
    "version": 3
   },
   "file_extension": ".py",
   "mimetype": "text/x-python",
   "name": "python",
   "nbconvert_exporter": "python",
   "pygments_lexer": "ipython3",
   "version": "3.7.0"
  }
 },
 "nbformat": 4,
 "nbformat_minor": 2
}
