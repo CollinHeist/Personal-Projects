{
 "cells": [
  {
   "cell_type": "markdown",
   "metadata": {},
   "source": [
    "# ECE 351 - Lab #8\n",
    "### Collin Heist\n",
    "#### Fourier Series Approximation of a Square Wave"
   ]
  },
  {
   "cell_type": "markdown",
   "metadata": {},
   "source": [
    "The Fourier series of any function $x(t)$ is calculated with the following:\n",
    "$$x(t)=\\frac{a_0}{2}+\\sum_{k=1}^{\\infty} a_kcos(kw_0t)+b_ksin(kw_0t)$$\n",
    "\n",
    "$$a_k=\\frac{2}{T}\\int_{0}^{T} x(t)cos(kw_0t)dt$$\n",
    "\n",
    "$$b_k=\\frac{2}{T}\\int_{0}^{T} x(t)sin(kw_0t)dt$$\n",
    "\n",
    "For the provided $x(t)$, which is the square wave that alternates between 1 and -1 at T/2, this results in $a_k$ and $b_k$ becoming:\n",
    "\n",
    "$$a_k=\\frac{2}{T}\\int_{0}^{T} (u(t)-2u(t-\\frac{T}{2}))\\cdot cos(kw_0t)dt$$\n",
    "\n",
    "$$b_k=\\frac{2}{T}\\int_{0}^{T} (u(t)-2u(t-\\frac{T}{2}))\\cdot sin(kw_0t)dt$$\n",
    "\n",
    "Which can be split into the following:\n",
    "\n",
    "$$a_k=\\frac{2}{T}(\\int_{0}^{T/2} cos(kw_0t)dt-\\int_{T/2}^{T} cos(kw_0t) dt)$$\n",
    "\n",
    "$$b_k=\\frac{2}{T}(\\int_{0}^{T/2} sin(kw_0t)dt-\\int_{T/2}^{T} sin(kw_0t) dt)$$\n",
    "\n",
    "Evaluating the integrals results in:\n",
    "\n",
    "$$a_k=\\frac{2}{Tkw_0}(sin(\\frac{Tkw_0}{2})-sin(0)-sin(Tkw_0)+sin(\\frac{Tkw_0}{2}))$$\n",
    "\n",
    "$$b_k=\\frac{2}{Tkw_0}(-cos(\\frac{Tkw_0}{2})+cos(0)+cos(Tkw_0)-cos(\\frac{Tkw_0}{2})$$\n",
    "\n",
    "Resulting in the final expressions for $a_k$ and $b_k$ for the _k-th_ term in the Fourier series, using the provided $x(t)$ to be:\n",
    "\n",
    "$$a_k=\\frac{2}{Tkw_0}(2sin(\\frac{Tkw_0}{2})-sin(Tkw_0))$$\n",
    "\n",
    "$$b_k=\\frac{2}{Tkw_0}(-2cos(\\frac{Tkw_0}{2})+2cos(Tkw_0)+1)$$\n",
    "\n",
    "Substituting in $w_0=\\frac{2 \\pi}{T}$...\n",
    "\n",
    "$$a_k=\\frac{1}{\\pi k}(2sin(\\pi k)-2sin(2\\pi k))$$\n",
    "\n",
    "$$b_k=\\frac{1}{\\pi k}(-2cos(\\pi k)+2cos(2\\pi k)+1)$$\n",
    "\n",
    "For any integer value _k_, the sinusiodal components of $a_k$ will always evaluate to 0; and the cosine components with a frequency of $2 \\pi$ of $b_k$ evaluate to 1, resulting in:\n",
    "\n",
    "$$a_k=0$$\n",
    "\n",
    "$$b_k=\\frac{2}{k\\pi}(1-cos(k\\pi))$$"
   ]
  }
 ],
 "metadata": {
  "kernelspec": {
   "display_name": "Python 3",
   "language": "python",
   "name": "python3"
  },
  "language_info": {
   "codemirror_mode": {
    "name": "ipython",
    "version": 3
   },
   "file_extension": ".py",
   "mimetype": "text/x-python",
   "name": "python",
   "nbconvert_exporter": "python",
   "pygments_lexer": "ipython3",
   "version": "3.7.0"
  }
 },
 "nbformat": 4,
 "nbformat_minor": 2
}
