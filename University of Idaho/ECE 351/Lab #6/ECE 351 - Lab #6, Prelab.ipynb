{
 "cells": [
  {
   "cell_type": "markdown",
   "metadata": {},
   "source": [
    "# ECE 351 - Lab #6, Prelab\n",
    "#### Partial Fraction Expansion"
   ]
  },
  {
   "cell_type": "markdown",
   "metadata": {},
   "source": [
    "### Part 1\n",
    "The following differential equation describes a system:\n",
    "$$y''(t)+10y'(t)+24y(t)=x''(t)+6x'(t)+12x(t)$$\n",
    "Performing a _Laplace Transform_...\n",
    "$$s^2Y(s)-sy(0^-)-y'(0^-)+10(sY(s)-y(0^-))+24Y(s)=s^2X(s)-sx(0^-)-x'(0^-)+6(sX(s)-x(0^-))+12X(s)$$\n",
    "We're told all the initial values are zero, resulting in...\n",
    "$$s^2Y(s)+10sY(s)+24Y(s)=s^2X(s)+6sX(s)+12X(s)$$\n",
    "$$Y(s)\\cdot (s^2+10s+24)=X(s)\\cdot (s^2+6s+12)$$\n",
    "$$\\frac{Y(s)}{X(s)}=H(s)=\\frac{s^2+6s+12}{s^2+10s+24}$$\n",
    "Thus, the transfer function $H(s)$ is:\n",
    "$$H(s)=\\frac{s^2+6s+12}{s^2+10s+24}$$"
   ]
  },
  {
   "cell_type": "markdown",
   "metadata": {},
   "source": [
    "### Part 2\n",
    "$$Y(s)=H(s)\\cdot L(u(t))$$\n",
    "\n",
    "$$Y(s)=\\frac{s^2+6s+12}{s^2+10s+24}\\cdot \\frac{1}{s}$$\n",
    "$$Y(s)=\\frac{s^2+6s+12}{s(s+6)(s+4)}$$\n",
    "$$Y(s)=\\frac{s^2+6s+12}{s(s+6)(s+4)}$$\n",
    "\n",
    "$$Y(s)=\\frac{s^2+6s+12}{s(s+6)(s+4)}=\\frac{A}{s}+\\frac{B}{s+6}+\\frac{C}{s+4}$$\n",
    "$$s^2+6s+12=A(s+6)(s+4)+B(s)(s+4)+C(s)(s+6)$$\n",
    "$$s^2+6s+12=As^2+10As+24A+Bs^2+4Bs+Cs^2+6Cs$$\n",
    "$$s^2+6s+12=s^2(A+B+C)+s(10A+4B+6C)+1(24A)$$\n",
    "$$s^2(1)+s(6)+1(12)=s^2(A+B+C)+s(10A+4B+6C)+1(24A)$$\n",
    "\n",
    "$$A+B+C=1, 10A+4B+6C=6, 24A=12$$\n",
    "$$A=\\frac{1}{2}, B=1, C=\\frac{-1}{2}$$\n",
    "\n",
    "$$Y(s)=\\frac{1}{2s}+\\frac{1}{s+6}-\\frac{1}{2(s+4)}$$\n",
    "Performing an inverse laplace transformation:\n",
    "$$y(t)=(\\frac{1}{2}+e^{-6t}-\\frac{1}{2}e^{-4t})\\cdot u(t)$$"
   ]
  },
  {
   "cell_type": "markdown",
   "metadata": {},
   "source": [
    "### Response to a step-input, $y(t)$\n",
    "\n",
    "$$y(t)=\\frac{1}{2}(1+2e^{-6t}-e^{-4t})\\cdot u(t)$$"
   ]
  }
 ],
 "metadata": {
  "kernelspec": {
   "display_name": "Python 3",
   "language": "python",
   "name": "python3"
  },
  "language_info": {
   "codemirror_mode": {
    "name": "ipython",
    "version": 3
   },
   "file_extension": ".py",
   "mimetype": "text/x-python",
   "name": "python",
   "nbconvert_exporter": "python",
   "pygments_lexer": "ipython3",
   "version": "3.7.0"
  }
 },
 "nbformat": 4,
 "nbformat_minor": 2
}
